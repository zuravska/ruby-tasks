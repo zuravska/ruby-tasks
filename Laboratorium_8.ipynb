{
 "metadata": {
  "language": "ruby",
  "name": "",
  "signature": "sha256:7b630a733a45aa18dc6e07cd5261a4c7ccbb5f3d605c0170017b942bff4767ff"
 },
 "nbformat": 3,
 "nbformat_minor": 0,
 "worksheets": [
  {
   "cells": [
    {
     "cell_type": "heading",
     "level": 1,
     "metadata": {},
     "source": [
      "Zapytania z\u0142o\u017cone"
     ]
    },
    {
     "cell_type": "markdown",
     "metadata": {},
     "source": [
      "Przed rozpocz\u0119ciem pracy konieczne jest skonfigurowanie bazy oraz za\u0142adowanie danych:\n",
      "```ruby\n",
      "$:.unshift \".\"\n",
      "require 'db_setup'\n",
      "require 'db_load'\n",
      "```"
     ]
    },
    {
     "cell_type": "code",
     "collapsed": false,
     "input": [
      "$:.unshift \".\"\n",
      "require 'db_setup'\n",
      "require 'db_load'"
     ],
     "language": "python",
     "metadata": {},
     "outputs": [
      {
       "output_type": "stream",
       "stream": "stdout",
       "text": [
        "==  AddIndicesMigration: migrating ============================================\n"
       ]
      },
      {
       "output_type": "stream",
       "stream": "stdout",
       "text": [
        "==  AddIndicesMigration: migrated (0.0005s) ===================================\n"
       ]
      },
      {
       "output_type": "stream",
       "stream": "stdout",
       "text": [
        "\n"
       ]
      },
      {
       "metadata": {},
       "output_type": "pyout",
       "prompt_number": 1,
       "text": [
        "true"
       ]
      }
     ],
     "prompt_number": 1
    },
    {
     "cell_type": "markdown",
     "metadata": {},
     "source": [
      "W dalszych zadaniach b\u0119dzie wykonywa\u0107 polecenia korzystaj\u0105c z nast\u0119puj\u0105cych klas, zmapowanych na odpowiadaj\u0105ce im \n",
      "table w bazie danych:\n",
      "```ruby\n",
      "class Author < ActiveRecord::Base\n",
      "  # name      (string)\n",
      "  # surname   (string)\n",
      "  # born      (datetime) \n",
      "  # died      (datetime)\n",
      "  # image_url (string)\n",
      "  \n",
      "  has_many :books\n",
      "end\n",
      "\n",
      "class Book < ActiveRecord::Base\n",
      "  # title     (string)\n",
      "  # author    (Author)\n",
      "  # published (integer)\n",
      "\n",
      "  belongs_to :author\n",
      "end\n",
      "```"
     ]
    },
    {
     "cell_type": "markdown",
     "metadata": {},
     "source": [
      "ActiveRecord udost\u0119pnia interfejs pozwalaj\u0105cy wyszukiwa\u0107 dane w bazie r\u00f3wnie\u017c z wykorzystaniem zwi\u0105zk\u00f3w zdefiniowanych pomi\u0119dzy\n",
      "klasami. Do definiowania tych zwi\u0105zk\u00f3w s\u0142u\u017c\u0105 polecenia `has_many`, `belongs_to`, `has_one` oraz `has_and_belongs_to_many`.\n",
      "Przyk\u0142adowo je\u015bli chcemy dowiedzie\u0107 si\u0119 kto by\u0142 autorem pierwszej ksi\u0105\u017cki wykonujemy zapytanie:\n",
      "```ruby\n",
      "book = Book.first\n",
      "puts book.title\n",
      "puts book.author\n",
      "```"
     ]
    },
    {
     "cell_type": "code",
     "collapsed": false,
     "input": [
      "book = Book.last\n",
      "puts book.title\n",
      "puts book.author"
     ],
     "language": "python",
     "metadata": {},
     "outputs": [
      {
       "output_type": "stream",
       "stream": "stdout",
       "text": [
        "Czas patriot\u00f3w (powie\u015b\u0107)\n"
       ]
      },
      {
       "output_type": "stream",
       "stream": "stdout",
       "text": [
        "#<Author:0x0000000299e880>\n"
       ]
      }
     ],
     "prompt_number": 5
    },
    {
     "cell_type": "markdown",
     "metadata": {},
     "source": [
      "Niestety prezentowany wynik nie jest zbyt u\u017cyteczny. Poniewa\u017c jednak metoda `author` zwraca obiekt, mo\u017cemy na nim wywo\u0142ywa\u0107 \n",
      "metody - tak samo jak w przypadku autora za\u0142adowanego bezpo\u015brednio z wykorzystaniem metod zdefiniowanych dla klasy `Author`\n",
      "```ruby\n",
      "book = Book.first\n",
      "puts book.title\n",
      "puts \"#{book.author.name} #{book.author.surname}\"\n",
      "```"
     ]
    },
    {
     "cell_type": "code",
     "collapsed": false,
     "input": [
      "book = Book.first\n",
      "puts book.title\n",
      "puts \"#{book.author.name} #{book.author.surname}\""
     ],
     "language": "python",
     "metadata": {},
     "outputs": [
      {
       "output_type": "stream",
       "stream": "stdout",
       "text": [
        "V\u00e9gj\u00e1t\u00e9k (reg\u00e9ny)\n"
       ]
      },
      {
       "output_type": "stream",
       "stream": "stdout",
       "text": [
        "Orson Scott Card\n"
       ]
      }
     ],
     "prompt_number": 4
    },
    {
     "cell_type": "markdown",
     "metadata": {},
     "source": [
      "Co wi\u0119cej, je\u015bli mamy do czynienia ze zwi\u0105zkiem jeden-do-wiele b\u0105d\u017a wiele-do-wiele, mo\u017cemy wywy\u0142ywa\u0107 wszystkie dotychczas poznane \n",
      "metody na kolekcji powi\u0105zanych obiekt\u00f3w. Istotnie u\u0142atwia to wyszukiwanie potrzebnych danych:\n",
      "```ruby\n",
      "books = Book.where(\"title like 'A%'\")\n",
      "books.each do |book|\n",
      "  puts book.title\n",
      "end\n",
      "\n",
      "author = Author.where(surname: \"To\u0142stoj\").first\n",
      "books = author.books.where(\"title like 'A%'\")\n",
      "books.each do |book|\n",
      "  puts book.title\n",
      "end\n",
      "```"
     ]
    },
    {
     "cell_type": "code",
     "collapsed": false,
     "input": [
      "books = Book.where(\"title like 'A%'\")\n",
      "books.each do |book|\n",
      "  puts book.title\n",
      "end\n",
      "\n",
      "author = Author.where(surname: \"To\u0142stoj\").first\n",
      "books = author.books.where(\"title like 'A%'\")\n",
      "books.each do |book|\n",
      "  puts book.title\n",
      "end"
     ],
     "language": "python",
     "metadata": {},
     "outputs": [
      {
       "output_type": "stream",
       "stream": "stdout",
       "text": [
        "Anna Karenina\n"
       ]
      },
      {
       "output_type": "stream",
       "stream": "stdout",
       "text": [
        "Azazel (powie\u015b\u0107)\n"
       ]
      },
      {
       "output_type": "stream",
       "stream": "stdout",
       "text": [
        "Anna Karenina\n"
       ]
      },
      {
       "metadata": {},
       "output_type": "pyout",
       "prompt_number": 6,
       "text": [
        "[#<Book id: 33, title: \"Anna Karenina\", language: nil, author_id: 49, published: 1877, image_url: \"http://commons.wikimedia.org/wiki/Special:FilePath...\">]"
       ]
      }
     ],
     "prompt_number": 6
    },
    {
     "cell_type": "markdown",
     "metadata": {},
     "source": [
      "R\u00f3\u017cnica pomi\u0119dzy tymi zapytaniami polega na tym, \u017ce w pierwszym przypadku szukamy ksi\u0105\u017cki, kt\u00f3rych tytu\u0142 zaczyna si\u0119 na \"A\" \n",
      "w ca\u0142ym zbiorze ksi\u0105\u017cek, a w drugi przypadku w\u015br\u00f3d ksi\u0105\u017cek napisanych przez To\u0142stoja."
     ]
    },
    {
     "cell_type": "markdown",
     "metadata": {},
     "source": [
      "Aby umo\u017cliwi\u0107 formatowanie wynik\u00f3w zapytania, IRuby udost\u0119pnia metod\u0119 `IRuby.html`, kt\u00f3ra pozwala na wy\u015bwietlanie kodu\n",
      "HTML. Przyk\u0142adowo\n",
      "```ruby\n",
      "IRuby.html \"<h1>Test HTML-a</h1>\"\n",
      "```"
     ]
    },
    {
     "cell_type": "code",
     "collapsed": false,
     "input": [
      "IRuby.html \"<h1>Test HTML-a</h1>\""
     ],
     "language": "python",
     "metadata": {},
     "outputs": [
      {
       "html": [
        "<h1>Test HTML-a</h1>"
       ],
       "metadata": {},
       "output_type": "pyout",
       "prompt_number": 7,
       "text": [
        "\"<h1>Test HTML-a</h1>\""
       ]
      }
     ],
     "prompt_number": 7
    },
    {
     "cell_type": "markdown",
     "metadata": {},
     "source": [
      "Dzi\u0119ki temu b\u0119dziemy mogli formatowa\u0107 wyniki zapyta\u0144, a wszczeg\u00f3lno\u015bci wy\u015bwietla\u0107 obrazy przedstwiaj\u0105ce autor\u00f3w oraz ksi\u0105\u017cki. \n",
      "Nale\u017cy jednak wzi\u0105\u0107 pod uwag\u0119, \u017ce nie wszystkie ksi\u0105\u017cki oraz nie wszyscy autorzy posiadaj\u0105 odpowiadaj\u0105ce im obrazki.\n",
      "Aby wy\u015bwietli\u0107 imi\u0119, nazwisko oraz obraz pierwszego autora piszemy:\n",
      "```ruby\n",
      "author = Author.where(\"image_url is not null\").first\n",
      "IRuby.html \"<h1>#{author.name} #{author.surname}</h1><img src='#{author.image_url}'/>\"\n",
      "```"
     ]
    },
    {
     "cell_type": "code",
     "collapsed": false,
     "input": [
      "author = Author.where(\"image_url is not null\").first\n",
      "IRuby.html \"<h1>#{author.name} #{author.surname}</h1><img src='#{author.image_url}'/>\""
     ],
     "language": "python",
     "metadata": {},
     "outputs": [
      {
       "html": [
        "<h1>Orson Scott Card</h1><img src='http://commons.wikimedia.org/wiki/Special:FilePath/Orson_Scott_Card_at_BYU_Symposium_20080216_closeup.jpg?width=300'/>"
       ],
       "metadata": {},
       "output_type": "pyout",
       "prompt_number": 8,
       "text": [
        "\"<h1>Orson Scott Card</h1><img src='http://commons.wikimedia.org/wiki/Special:FilePath/Orson_Scott_Card_at_BYU_Symposium_20080216_closeup.jpg?width=300'/>\""
       ]
      }
     ],
     "prompt_number": 8
    },
    {
     "cell_type": "markdown",
     "metadata": {},
     "source": [
      "Mo\u017cemy r\u00f3wnie\u017c zdefniowa\u0107 funkcj\u0119, np. `display_author`, kt\u00f3rej zadaniem b\u0119dzie wy\u015bwietlenie autora w tej postaci. \n",
      "Jedyny problem polega na tym, \u017ce funkcja `IRuby.html` mo\u017ce by\u0107 wywo\u0142ywana tylko raz. Dlatego je\u015bli chcemy wy\u015bwietli\u0107 kilku autor\u00f3w,\n",
      "musimy po\u0142\u0105czy\u0107 odpowiadaj\u0105ce im kody HTML i wynik przekaza\u0107 do funkcji `html`\n",
      "```ruby\n",
      "def display_author(author)\n",
      "  \"<h1>#{author.name} #{author.surname}</h1><img src='#{author.image_url}'/>\"\n",
      "end\n",
      "\n",
      "author_1 = Author.where(\"image_url is not null\").first\n",
      "author_2 = Author.where(\"image_url is not null\").offset(1).first\n",
      "document = display_author(author_1)\n",
      "document += display_author(author_2)\n",
      "IRuby.html document\n",
      "```"
     ]
    },
    {
     "cell_type": "code",
     "collapsed": false,
     "input": [
      "def display_author(author)\n",
      "  \"<h1>#{author.name} #{author.surname}</h1><img src='#{author.image_url}'/>\"\n",
      "end\n",
      "\n",
      "author_1 = Author.where(\"image_url is not null\").first\n",
      "author_2 = Author.where(\"image_url is not null\").offset(1).first\n",
      "document = display_author(author_1)\n",
      "document += display_author(author_2)\n",
      "IRuby.html document\n"
     ],
     "language": "python",
     "metadata": {},
     "outputs": [
      {
       "html": [
        "<h1>Orson Scott Card</h1><img src='http://commons.wikimedia.org/wiki/Special:FilePath/Orson_Scott_Card_at_BYU_Symposium_20080216_closeup.jpg?width=300'/><h1>Andrzej Sapkowski</h1><img src='http://commons.wikimedia.org/wiki/Special:FilePath/Sapkowski.jpg?width=300'/>"
       ],
       "metadata": {},
       "output_type": "pyout",
       "prompt_number": 22,
       "text": [
        "\"<h1>Orson Scott Card</h1><img src='http://commons.wikimedia.org/wiki/Special:FilePath/Orson_Scott_Card_at_BYU_Symposium_20080216_closeup.jpg?width=300'/><h1>Andrzej Sapkowski</h1><img src='http://commons.wikimedia.org/wiki/Special:FilePath/Sapkowski.jpg?width=300'/>\""
       ]
      }
     ],
     "prompt_number": 22
    },
    {
     "cell_type": "heading",
     "level": 2,
     "metadata": {},
     "source": [
      "Zadania"
     ]
    },
    {
     "cell_type": "heading",
     "level": 3,
     "metadata": {},
     "source": [
      "Zadanie 1"
     ]
    },
    {
     "cell_type": "code",
     "collapsed": false,
     "input": [
      "def display_author(author)\n",
      "  \"<h1>#{author.name} #{author.surname}</h1>\"\n",
      "end\n",
      "\n",
      "authors = Author.where('born < ?' ,Date.parse('1899-12-31'))\n",
      "document = \"\"\n",
      "authors.each do |author|\n",
      " document += display_author(author) \n",
      "end\n",
      "\n",
      "IRuby.html document\n"
     ],
     "language": "python",
     "metadata": {},
     "outputs": [
      {
       "html": [
        "<h1>Adam Mickiewicz</h1><h1>Juliusz S\u0142owacki</h1><h1>Henryk Sienkiewicz</h1><h1>Eliza Orzeszkowa</h1><h1>Jack London</h1><h1>Miko\u0142aj Kopernik</h1><h1>Maria Franciszka Koz\u0142owska</h1><h1>William Szekspir</h1><h1>John Ronald Reuel Tolkien</h1><h1>Aleksander Dumas (ojciec)</h1><h1>Tadeusz Do\u0142\u0119ga-Mostowicz</h1><h1>Vladimir Nabokov</h1><h1>Adolf Hitler</h1><h1>Benedykt Chmielowski</h1><h1>Aldous Huxley</h1><h1>Honor\u00e9 de Balzac</h1><h1>Franz Kafka</h1><h1>Howard Phillips Lovecraft</h1><h1>Lew To\u0142stoj</h1><h1>Ilja Ilf</h1><h1>Gabriela Zapolska</h1><h1>Clive Staples Lewis</h1><h1>Iwan Turgieniew</h1><h1>Lucy Maud Montgomery</h1><h1>Aleksander Majkowski</h1>"
       ],
       "metadata": {},
       "output_type": "pyout",
       "prompt_number": 3,
       "text": [
        "\"<h1>Adam Mickiewicz</h1><h1>Juliusz S\u0142owacki</h1><h1>Henryk Sienkiewicz</h1><h1>Eliza Orzeszkowa</h1><h1>Jack London</h1><h1>Miko\u0142aj Kopernik</h1><h1>Maria Franciszka Koz\u0142owska</h1><h1>William Szekspir</h1><h1>John Ronald Reuel Tolkien</h1><h1>Aleksander Dumas (ojciec)</h1><h1>Tadeusz Do\u0142\u0119ga-Mostowicz</h1><h1>Vladimir Nabokov</h1><h1>Adolf Hitler</h1><h1>Benedykt Chmielowski</h1><h1>Aldous Huxley</h1><h1>Honor\u00e9 de Balzac</h1><h1>Franz Kafka</h1><h1>Howard Phillips Lovecraft</h1><h1>Lew To\u0142stoj</h1><h1>Ilja Ilf</h1><h1>Gabriela Zapolska</h1><h1>Clive Staples Lewis</h1><h1>Iwan Turgieniew</h1><h1>Lucy Maud Montgomery</h1><h1>Aleksander Majkowski</h1>\""
       ]
      }
     ],
     "prompt_number": 3
    },
    {
     "cell_type": "heading",
     "level": 3,
     "metadata": {},
     "source": [
      "Zadanie 2"
     ]
    },
    {
     "cell_type": "markdown",
     "metadata": {},
     "source": [
      "Zmodyfikuj funkcj\u0119 wy\u015bwietlaj\u0105c\u0105 autor\u00f3w tak aby obejmowa\u0142a ich dat\u0119 urodzin i \u015bmierci w formacie `dzie\u0144.miesi\u0105c.rok`. Nast\u0119pnie wy\u015bwietl wszystkich autor\u00f3w,\n",
      "kt\u00f3rzy zmarli w XX wieku."
     ]
    },
    {
     "cell_type": "code",
     "collapsed": false,
     "input": [
      "def display_author(author)\n",
      "  \"<h1>#{author.name} #{author.surname}  ur.#{author.born.strftime(\"%d-%m-%Y\")}  zm.#{author.died.strftime(\"%d-%m-%Y\")}</h1>\"\n",
      "end\n",
      "\n",
      "authors = Author.where('died > ?' ,Date.parse('1900-12-31'))\n",
      "document = \"\"\n",
      "authors.each do |author|\n",
      " document += display_author(author) \n",
      "end\n",
      "\n",
      "IRuby.html document\n"
     ],
     "language": "python",
     "metadata": {},
     "outputs": [
      {
       "html": [
        "<h1>Henryk Sienkiewicz  ur.05-05-1846  zm.15-11-1916</h1><h1>Eliza Orzeszkowa  ur.06-06-1841  zm.18-05-1910</h1><h1>Jack London  ur.12-01-1876  zm.22-11-1916</h1><h1>Stanis\u0142aw Lem  ur.12-09-1921  zm.27-03-2006</h1><h1>Antoni Go\u0142ubiew  ur.25-02-1907  zm.27-06-1979</h1><h1>George Orwell  ur.25-06-1903  zm.21-01-1950</h1><h1>John Ronald Reuel Tolkien  ur.03-01-1892  zm.02-09-1973</h1><h1>Tadeusz Do\u0142\u0119ga-Mostowicz  ur.10-08-1898  zm.20-09-1939</h1><h1>Vladimir Nabokov  ur.22-04-1899  zm.02-07-1977</h1><h1>Adolf Hitler  ur.20-04-1889  zm.30-04-1945</h1><h1>Aldous Huxley  ur.26-07-1894  zm.22-11-1963</h1><h1>Franz Kafka  ur.03-07-1883  zm.03-06-1924</h1><h1>Howard Phillips Lovecraft  ur.20-08-1890  zm.15-03-1937</h1><h1>Karol Olgierd Borchardt  ur.25-03-1905  zm.20-05-1986</h1><h1>Lew To\u0142stoj  ur.09-09-1828  zm.20-11-1910</h1><h1>Janusz Zajdel  ur.15-08-1938  zm.19-07-1985</h1><h1>Jan Pawe\u0142 II  ur.18-05-1920  zm.02-04-2005</h1><h1>Isaac Asimov  ur.04-10-1919  zm.06-04-1992</h1><h1>Ilja Ilf  ur.15-10-1897  zm.13-04-1937</h1><h1>Jewgienij Pietrow (pisarz)  ur.13-12-1903  zm.02-07-1942</h1><h1>Gabriela Zapolska  ur.30-03-1857  zm.17-12-1921</h1><h1>Clive Staples Lewis  ur.29-11-1898  zm.22-11-1963</h1><h1>Ryszard Kapu\u015bci\u0144ski  ur.04-03-1932  zm.23-01-2007</h1><h1>Lucy Maud Montgomery  ur.30-11-1874  zm.24-04-1942</h1><h1>Dorota Terakowska  ur.30-08-1938  zm.04-01-2004</h1><h1>Alfred Szklarski  ur.21-01-1912  zm.09-04-1992</h1><h1>Aleksander Majkowski  ur.17-07-1876  zm.10-02-1938</h1><h1>Ian Fleming  ur.28-05-1908  zm.12-08-1964</h1><h1>Tom Clancy  ur.12-04-1947  zm.01-10-2013</h1>"
       ],
       "metadata": {},
       "output_type": "pyout",
       "prompt_number": 11,
       "text": [
        "\"<h1>Henryk Sienkiewicz  ur.05-05-1846  zm.15-11-1916</h1><h1>Eliza Orzeszkowa  ur.06-06-1841  zm.18-05-1910</h1><h1>Jack London  ur.12-01-1876  zm.22-11-1916</h1><h1>Stanis\u0142aw Lem  ur.12-09-1921  zm.27-03-2006</h1><h1>Antoni Go\u0142ubiew  ur.25-02-1907  zm.27-06-1979</h1><h1>George Orwell  ur.25-06-1903  zm.21-01-1950</h1><h1>John Ronald Reuel Tolkien  ur.03-01-1892  zm.02-09-1973</h1><h1>Tadeusz Do\u0142\u0119ga-Mostowicz  ur.10-08-1898  zm.20-09-1939</h1><h1>Vladimir Nabokov  ur.22-04-1899  zm.02-07-1977</h1><h1>Adolf Hitler  ur.20-04-1889  zm.30-04-1945</h1><h1>Aldous Huxley  ur.26-07-1894  zm.22-11-1963</h1><h1>Franz Kafka  ur.03-07-1883  zm.03-06-1924</h1><h1>Howard Phillips Lovecraft  ur.20-08-1890  zm.15-03-1937</h1><h1>Karol Olgierd Borchardt  ur.25-03-1905  zm.20-05-1986</h1><h1>Lew To\u0142stoj  ur.09-09-1828  zm.20-11-1910</h1><h1>Janusz Zajdel  ur.15-08-1938  zm.19-07-1985</h1><h1>Jan Pawe\u0142 II  ur.18-05-1920  zm.02-04-2005</h1><h1>Isaac Asimov  ur.04-10-1919  zm.06-04-1992</h1><h1>Ilja Ilf  ur.15-10-1897  zm.13-04-1937</h1><h1>Jewgienij Pietrow (pisarz)  ur.13-12-1903  zm.02-07-1942</h1><h1>Gabriela Zapolska  ur.30-03-1857  zm.17-12-1921</h1><h1>Clive Staples Lewis  ur.29-11-1898  zm.22-11-1963</h1><h1>Ryszard Kapu\u015bci\u0144ski  ur.04-03-1932  zm.23-01-2007</h1><h1>Lucy Maud Montgomery  ur.30-11-1874  zm.24-04-1942</h1><h1>Dorota Terakowska  ur.30-08-1938  zm.04-01-2004</h1><h1>Alfred Szklarski  ur.21-01-1912  zm.09-04-1992</h1><h1>Aleksander Majkowski  ur.17-07-1876  zm.10-02-1938</h1><h1>Ian Fleming  ur.28-05-1908  zm.12-08-1964</h1><h1>Tom Clancy  ur.12-04-1947  zm.01-10-2013</h1>\""
       ]
      }
     ],
     "prompt_number": 11
    },
    {
     "cell_type": "heading",
     "level": 3,
     "metadata": {},
     "source": [
      "Zadanie 3"
     ]
    },
    {
     "cell_type": "markdown",
     "metadata": {},
     "source": [
      "Wy\u015bwietl 5 najm\u0142odszych autor\u00f3w, kt\u00f3rzy posiadaj\u0105 przypisane zdj\u0119cie."
     ]
    },
    {
     "cell_type": "code",
     "collapsed": false,
     "input": [
      "def display_author(author)\n",
      "  \"<h2>#{author.name} #{author.surname} ur. #{author.born}</h2><img src='#{author.image_url}'/>\"\n",
      "end\n",
      "\n",
      "autors = Author.where(\"born is not null\").where(\"image_url is not null\").order(born: :desc).limit(5)\n",
      "document = \"\"\n",
      "autors.each do |author| \n",
      " document += display_author(author)   \n",
      "end\n",
      "\n",
      "IRuby.html document"
     ],
     "language": "python",
     "metadata": {},
     "outputs": [
      {
       "html": [
        "<h2>Andrzej Pilipiuk ur. 1974-03-20</h2><img src='http://commons.wikimedia.org/wiki/Special:FilePath/Andrzej_Pilipiuk-Polcon2006.jpg?width=300'/><h2>J. K. Rowling ur. 1965-07-31</h2><img src='http://commons.wikimedia.org/wiki/Special:FilePath/J._K._Rowling_2010.jpg?width=300'/><h2>Rafa\u0142 A. Ziemkiewicz ur. 1964-09-13</h2><img src='http://commons.wikimedia.org/wiki/Special:FilePath/Rafa\u0142_Ziemkiewicz.jpg?width=300'/><h2>Boris Akunin ur. 1956-05-20</h2><img src='http://commons.wikimedia.org/wiki/Special:FilePath/Boris_Akunin_2012.jpg?width=300'/><h2>Orson Scott Card ur. 1951-08-24</h2><img src='http://commons.wikimedia.org/wiki/Special:FilePath/Orson_Scott_Card_at_BYU_Symposium_20080216_closeup.jpg?width=300'/>"
       ],
       "metadata": {},
       "output_type": "pyout",
       "prompt_number": 26,
       "text": [
        "\"<h2>Andrzej Pilipiuk ur. 1974-03-20</h2><img src='http://commons.wikimedia.org/wiki/Special:FilePath/Andrzej_Pilipiuk-Polcon2006.jpg?width=300'/><h2>J. K. Rowling ur. 1965-07-31</h2><img src='http://commons.wikimedia.org/wiki/Special:FilePath/J._K._Rowling_2010.jpg?width=300'/><h2>Rafa\u0142 A. Ziemkiewicz ur. 1964-09-13</h2><img src='http://commons.wikimedia.org/wiki/Special:FilePath/Rafa\u0142_Ziemkiewicz.jpg?width=300'/><h2>Boris Akunin ur. 1956-05-20</h2><img src='http://commons.wikimedia.org/wiki/Special:FilePath/Boris_Akunin_2012.jpg?width=300'/><h2>Orson Scott Card ur. 1951-08-24</h2><img src='http://commons.wikimedia.org/wiki/Special:FilePath/Orson_Scott_Card_at_BYU_Symposium_20080216_closeup.jpg?width=300'/>\""
       ]
      }
     ],
     "prompt_number": 26
    },
    {
     "cell_type": "heading",
     "level": 3,
     "metadata": {},
     "source": [
      "Zadanie 4"
     ]
    },
    {
     "cell_type": "markdown",
     "metadata": {},
     "source": [
      "Zdefiniuj funkcj\u0119 `display_book`, kt\u00f3ra b\u0119dzie zwraca\u0142a fragment kodu HTML obejmuj\u0105cy tytu\u0142 ksi\u0105\u017cki, rok jej wydania oraz\n",
      "przypisany obrazek.\n",
      "Wy\u015bwietl najwcze\u015bniej wydan\u0105 ksi\u0105\u017ck\u0119."
     ]
    },
    {
     "cell_type": "code",
     "collapsed": false,
     "input": [
      "def display_book(book)\n",
      "  \"<h2>#{book.title} #{book.published}</h2><img src='#{book.image_url}'/>\"\n",
      "end\n",
      "\n",
      "books = Book.where(\"published is not null\").where(\"image_url is not null\").order(:published).limit(2)\n",
      "document = \"\"\n",
      "books.each do |book| \n",
      " document += display_book(book)   \n",
      "end\n",
      "\n",
      "IRuby.html document"
     ],
     "language": "python",
     "metadata": {},
     "outputs": [
      {
       "html": [
        "<h2>Ojcowie i dzieci 0</h2><img src='http://commons.wikimedia.org/wiki/Special:FilePath/Otsy1880.jpg?width=300'/><h2>Psa\u0142terz Dawid\u00f3w 1579</h2><img src='http://commons.wikimedia.org/wiki/Special:FilePath/Kochanowski_-_Psa\u0142terz_Dawid\u00f3w_(1579).jpg?width=300'/>"
       ],
       "metadata": {},
       "output_type": "pyout",
       "prompt_number": 36,
       "text": [
        "\"<h2>Ojcowie i dzieci 0</h2><img src='http://commons.wikimedia.org/wiki/Special:FilePath/Otsy1880.jpg?width=300'/><h2>Psa\u0142terz Dawid\u00f3w 1579</h2><img src='http://commons.wikimedia.org/wiki/Special:FilePath/Kochanowski_-_Psa\u0142terz_Dawid\u00f3w_(1579).jpg?width=300'/>\""
       ]
      }
     ],
     "prompt_number": 36
    },
    {
     "cell_type": "heading",
     "level": 3,
     "metadata": {},
     "source": [
      "Zadanie 5"
     ]
    },
    {
     "cell_type": "markdown",
     "metadata": {},
     "source": [
      "Wy\u015bwietl wszystkie ksi\u0105\u017cki, kt\u00f3re nie maj\u0105 przypisanego roku wydania."
     ]
    },
    {
     "cell_type": "code",
     "collapsed": false,
     "input": [
      "def display_book(book)\n",
      "  \"<h2>#{book.title} #{book.published}</h2><img src='#{book.image_url}'/>\"\n",
      "end\n",
      "\n",
      "books = Book.where(\"published is null\")\n",
      "document = \"\"\n",
      "books.each do |book| \n",
      " document += display_book(book)   \n",
      "end\n",
      "\n",
      "IRuby.html document"
     ],
     "language": "python",
     "metadata": {},
     "outputs": [
      {
       "html": [
        "<h2>V\u00e9gj\u00e1t\u00e9k (reg\u00e9ny) </h2><img src=''/><h2>Hamlet </h2><img src='http://commons.wikimedia.org/wiki/Special:FilePath/Hamlet_quarto_3rd.jpg?width=300'/>"
       ],
       "metadata": {},
       "output_type": "pyout",
       "prompt_number": 38,
       "text": [
        "\"<h2>V\u00e9gj\u00e1t\u00e9k (reg\u00e9ny) </h2><img src=''/><h2>Hamlet </h2><img src='http://commons.wikimedia.org/wiki/Special:FilePath/Hamlet_quarto_3rd.jpg?width=300'/>\""
       ]
      }
     ],
     "prompt_number": 38
    },
    {
     "cell_type": "heading",
     "level": 3,
     "metadata": {},
     "source": [
      "Zadanie 6"
     ]
    },
    {
     "cell_type": "markdown",
     "metadata": {},
     "source": [
      "Zmodyfikuj funkcj\u0119 `display_author` tak, aby wy\u015bwietla\u0142a r\u00f3wnie\u017c wszystkie ksi\u0105\u017cki napisane przez autora. U\u017cyj znacznika `<ul>`.\n",
      "Korzystaj\u0105c z tej funkcji wy\u015bwietl opis Stanis\u0142awa Lema."
     ]
    },
    {
     "cell_type": "code",
     "collapsed": false,
     "input": [
      "def display_author(author)\n",
      "  document = \"<h1>#{author.name} #{author.surname}</h1><h3> #{author.born}</h3><img src='#{author.image_url}'/>\"\n",
      "  document << \"<ul>\"\n",
      "  author.books.each do |book|\n",
      "    document << \"<li>#{book.title}<img src='#{book.image_url}'/></li>\"\n",
      "  end\n",
      "  document << \"</ul>\"\n",
      "end\n",
      "\n",
      "authors = Author.where(surname: \"Lem\").all\n",
      "document = ''\n",
      "authors.each do |author|\n",
      "  document += display_author(author)\n",
      "end\n",
      "IRuby.html document"
     ],
     "language": "python",
     "metadata": {},
     "outputs": [
      {
       "ename": "NameError",
       "evalue": "uninitialized constant Author",
       "output_type": "pyerr",
       "traceback": [
        "\u001b[31mNameError\u001b[0m: uninitialized constant Author",
        "\u001b[37m<main>:9:in `<main>'\u001b[0m",
        "\u001b[37m/usr/local/rvm/gems/ruby-2.0.0-p0/gems/iruby-0.1.13/lib/iruby/backend.rb:8:in `eval'\u001b[0m",
        "\u001b[37m/usr/local/rvm/gems/ruby-2.0.0-p0/gems/iruby-0.1.13/lib/iruby/backend.rb:8:in `eval'\u001b[0m",
        "\u001b[37m/usr/local/rvm/gems/ruby-2.0.0-p0/gems/iruby-0.1.13/lib/iruby/kernel.rb:110:in `execute_request'\u001b[0m",
        "\u001b[37m/usr/local/rvm/gems/ruby-2.0.0-p0/gems/iruby-0.1.13/lib/iruby/kernel.rb:62:in `run'\u001b[0m",
        "\u001b[37m/usr/local/rvm/gems/ruby-2.0.0-p0/gems/iruby-0.1.13/lib/iruby/command.rb:30:in `run_kernel'\u001b[0m",
        "\u001b[37m/usr/local/rvm/gems/ruby-2.0.0-p0/gems/iruby-0.1.13/lib/iruby/command.rb:16:in `run'\u001b[0m",
        "\u001b[37m/usr/local/rvm/gems/ruby-2.0.0-p0/gems/iruby-0.1.13/bin/iruby:6:in `<top (required)>'\u001b[0m",
        "\u001b[37m/usr/local/rvm/gems/ruby-2.0.0-p0/bin/iruby:23:in `load'\u001b[0m",
        "\u001b[37m/usr/local/rvm/gems/ruby-2.0.0-p0/bin/iruby:23:in `<main>'\u001b[0m",
        "\u001b[37m/usr/local/rvm/gems/ruby-2.0.0-p0/bin/ruby_noexec_wrapper:14:in `eval'\u001b[0m",
        "\u001b[37m/usr/local/rvm/gems/ruby-2.0.0-p0/bin/ruby_noexec_wrapper:14:in `<main>'\u001b[0m"
       ]
      }
     ],
     "prompt_number": 1
    },
    {
     "cell_type": "heading",
     "level": 3,
     "metadata": {},
     "source": [
      "Zadanie 7"
     ]
    },
    {
     "cell_type": "markdown",
     "metadata": {},
     "source": [
      "W\u015br\u00f3d ksi\u0105\u017cek napisanych przez Lema wy\u015bwietl wszystkie, kt\u00f3re zawieraja w tytule s\u0142owo \"zbi\u00f3r\"."
     ]
    },
    {
     "cell_type": "code",
     "collapsed": false,
     "input": [
      "def display_author(author)\n",
      "  document = \"<h1>#{author.name} #{author.surname}</h1><h3> #{author.born}</h3><img src='#{author.image_url}'/>\"\n",
      "  document << \"<ul>\"\n",
      "  author.books.where(\"title LIKE '%zbi\u00f3r%'\").each do |book|\n",
      "    document << \"<li>#{book.title}<img src='#{book.image_url}'/></li>\"\n",
      "  end\n",
      "  document << \"</ul>\"\n",
      "end\n",
      "\n",
      "authors = Author.where(surname: \"Lem\").all\n",
      "document = ''\n",
      "authors.each do |author|\n",
      "  document += display_author(author)\n",
      "end\n",
      "IRuby.html document"
     ],
     "language": "python",
     "metadata": {},
     "outputs": [
      {
       "ename": "NameError",
       "evalue": "uninitialized constant Author",
       "output_type": "pyerr",
       "traceback": [
        "\u001b[31mNameError\u001b[0m: uninitialized constant Author",
        "\u001b[37m<main>:9:in `<main>'\u001b[0m",
        "\u001b[37m/usr/local/rvm/gems/ruby-2.0.0-p0/gems/iruby-0.1.13/lib/iruby/backend.rb:8:in `eval'\u001b[0m",
        "\u001b[37m/usr/local/rvm/gems/ruby-2.0.0-p0/gems/iruby-0.1.13/lib/iruby/backend.rb:8:in `eval'\u001b[0m",
        "\u001b[37m/usr/local/rvm/gems/ruby-2.0.0-p0/gems/iruby-0.1.13/lib/iruby/kernel.rb:110:in `execute_request'\u001b[0m",
        "\u001b[37m/usr/local/rvm/gems/ruby-2.0.0-p0/gems/iruby-0.1.13/lib/iruby/kernel.rb:62:in `run'\u001b[0m",
        "\u001b[37m/usr/local/rvm/gems/ruby-2.0.0-p0/gems/iruby-0.1.13/lib/iruby/command.rb:30:in `run_kernel'\u001b[0m",
        "\u001b[37m/usr/local/rvm/gems/ruby-2.0.0-p0/gems/iruby-0.1.13/lib/iruby/command.rb:16:in `run'\u001b[0m",
        "\u001b[37m/usr/local/rvm/gems/ruby-2.0.0-p0/gems/iruby-0.1.13/bin/iruby:6:in `<top (required)>'\u001b[0m",
        "\u001b[37m/usr/local/rvm/gems/ruby-2.0.0-p0/bin/iruby:23:in `load'\u001b[0m",
        "\u001b[37m/usr/local/rvm/gems/ruby-2.0.0-p0/bin/iruby:23:in `<main>'\u001b[0m",
        "\u001b[37m/usr/local/rvm/gems/ruby-2.0.0-p0/bin/ruby_noexec_wrapper:14:in `eval'\u001b[0m",
        "\u001b[37m/usr/local/rvm/gems/ruby-2.0.0-p0/bin/ruby_noexec_wrapper:14:in `<main>'\u001b[0m"
       ]
      }
     ],
     "prompt_number": 2
    },
    {
     "cell_type": "heading",
     "level": 3,
     "metadata": {},
     "source": [
      "Zadanie 8"
     ]
    },
    {
     "cell_type": "markdown",
     "metadata": {},
     "source": [
      "W\u015br\u00f3d ksi\u0105\u017cek napisanych przez Lema wy\u015bwietl te, kt\u00f3re zosta\u0142y wydane w roku jego \u015bmierci."
     ]
    },
    {
     "cell_type": "code",
     "collapsed": false,
     "input": [
      "def display_author(author)\n",
      "  document = \"<h1>#{author.name} #{author.surname}</h1><h3> #{author.born}  - #{author.died}</h3><img src='#{author.image_url}'/>\"\n",
      "  document << \"<ul>\"\n",
      "  author.books.where('published = ?', author.died.strftime(\"%Y\")).each do |book|\n",
      "    document << \"<li>#{book.title} #{book.published}<img src='#{book.image_url}'/></li>\"\n",
      "  end\n",
      "  document << \"</ul>\"\n",
      "end\n",
      "\n",
      "authors = Author.where(surname: \"Lem\").all\n",
      "document = ''\n",
      "authors.each do |author|\n",
      "  document += display_author(author)\n",
      "end\n",
      "IRuby.html document"
     ],
     "language": "python",
     "metadata": {},
     "outputs": [],
     "prompt_number": 5
    },
    {
     "cell_type": "heading",
     "level": 3,
     "metadata": {},
     "source": [
      "Zadanie 9"
     ]
    },
    {
     "cell_type": "markdown",
     "metadata": {},
     "source": [
      "Wy\u015bwietl wszystkie ksi\u0105\u017cki znajduj\u0105ce si\u0119 w bazie. Opis powinien zawiera\u0107 tytu\u0142, imi\u0119 i nazwisko autora, rok wydania oraz \n",
      "obraz przedstawiaj\u0105cy ksi\u0105\u017ck\u0119 (o ile istnieje)."
     ]
    },
    {
     "cell_type": "code",
     "collapsed": false,
     "input": [
      "def display_books(books)\n",
      "  cos = \"\"\n",
      "  books.each do |book|\n",
      "  cos << \"<h1>#{book.title}</h1> <h3>#{book.author.name} #{book.author.surname}</h3> <h3>#{book.published}</h3><img src='#{book.image_url}'/>\"\n",
      "  end\n",
      "   cos  \n",
      "end\n",
      "\n",
      "books = Book.all\n",
      "  document = display_books(books)\n",
      "IRuby.html document"
     ],
     "language": "python",
     "metadata": {},
     "outputs": [
      {
       "ename": "NameError",
       "evalue": "uninitialized constant Book",
       "output_type": "pyerr",
       "traceback": [
        "\u001b[31mNameError\u001b[0m: uninitialized constant Book",
        "\u001b[37m<main>:8:in `<main>'\u001b[0m",
        "\u001b[37m/usr/local/rvm/gems/ruby-2.0.0-p0/gems/iruby-0.1.13/lib/iruby/backend.rb:8:in `eval'\u001b[0m",
        "\u001b[37m/usr/local/rvm/gems/ruby-2.0.0-p0/gems/iruby-0.1.13/lib/iruby/backend.rb:8:in `eval'\u001b[0m",
        "\u001b[37m/usr/local/rvm/gems/ruby-2.0.0-p0/gems/iruby-0.1.13/lib/iruby/kernel.rb:110:in `execute_request'\u001b[0m",
        "\u001b[37m/usr/local/rvm/gems/ruby-2.0.0-p0/gems/iruby-0.1.13/lib/iruby/kernel.rb:62:in `run'\u001b[0m",
        "\u001b[37m/usr/local/rvm/gems/ruby-2.0.0-p0/gems/iruby-0.1.13/lib/iruby/command.rb:30:in `run_kernel'\u001b[0m",
        "\u001b[37m/usr/local/rvm/gems/ruby-2.0.0-p0/gems/iruby-0.1.13/lib/iruby/command.rb:16:in `run'\u001b[0m",
        "\u001b[37m/usr/local/rvm/gems/ruby-2.0.0-p0/gems/iruby-0.1.13/bin/iruby:6:in `<top (required)>'\u001b[0m",
        "\u001b[37m/usr/local/rvm/gems/ruby-2.0.0-p0/bin/iruby:23:in `load'\u001b[0m",
        "\u001b[37m/usr/local/rvm/gems/ruby-2.0.0-p0/bin/iruby:23:in `<main>'\u001b[0m",
        "\u001b[37m/usr/local/rvm/gems/ruby-2.0.0-p0/bin/ruby_noexec_wrapper:14:in `eval'\u001b[0m",
        "\u001b[37m/usr/local/rvm/gems/ruby-2.0.0-p0/bin/ruby_noexec_wrapper:14:in `<main>'\u001b[0m"
       ]
      }
     ],
     "prompt_number": 3
    },
    {
     "cell_type": "heading",
     "level": 3,
     "metadata": {},
     "source": [
      "Zadanie 10"
     ]
    },
    {
     "cell_type": "markdown",
     "metadata": {},
     "source": [
      "Wy\u015bwietl wszystkich autor\u00f3w znajduj\u0105cych si\u0119 w bazie wraz z opisem zawieraj\u0105cym ich zdj\u0119cie, dat\u0119 urodzin i \u015bmierci oraz spis \n",
      "opublikowanych ksi\u0105\u017cek. Pami\u0119taj o odpowiednim sformatowaniu dat oraz o tym, \u017ce nie wszyscy autorzy maj\u0105 przypisane wszystkie\n",
      "informacje."
     ]
    },
    {
     "cell_type": "code",
     "collapsed": false,
     "input": [
      "def display_author(author)\n",
      "  document = \"<h1>#{author.name} #{author.surname}</h1><h3> #{author.born}</h3><img src='#{author.image_url}'/>\"\n",
      "  document << \"<ul>\"\n",
      "  author.books.each do |book|\n",
      "    document << \"<li>#{book.title}<img src='#{book.image_url}'/></li>\"\n",
      "  end\n",
      "  document << \"</ul>\"\n",
      "end\n",
      "\n",
      "authors = Author.all\n",
      "document = ''\n",
      "authors.each do |author|\n",
      "  document += display_author(author)\n",
      "end\n",
      "IRuby.html document"
     ],
     "language": "python",
     "metadata": {},
     "outputs": [
      {
       "ename": "NameError",
       "evalue": "uninitialized constant Author",
       "output_type": "pyerr",
       "traceback": [
        "\u001b[31mNameError\u001b[0m: uninitialized constant Author",
        "\u001b[37m<main>:9:in `<main>'\u001b[0m",
        "\u001b[37m/usr/local/rvm/gems/ruby-2.0.0-p0/gems/iruby-0.1.13/lib/iruby/backend.rb:8:in `eval'\u001b[0m",
        "\u001b[37m/usr/local/rvm/gems/ruby-2.0.0-p0/gems/iruby-0.1.13/lib/iruby/backend.rb:8:in `eval'\u001b[0m",
        "\u001b[37m/usr/local/rvm/gems/ruby-2.0.0-p0/gems/iruby-0.1.13/lib/iruby/kernel.rb:110:in `execute_request'\u001b[0m",
        "\u001b[37m/usr/local/rvm/gems/ruby-2.0.0-p0/gems/iruby-0.1.13/lib/iruby/kernel.rb:62:in `run'\u001b[0m",
        "\u001b[37m/usr/local/rvm/gems/ruby-2.0.0-p0/gems/iruby-0.1.13/lib/iruby/command.rb:30:in `run_kernel'\u001b[0m",
        "\u001b[37m/usr/local/rvm/gems/ruby-2.0.0-p0/gems/iruby-0.1.13/lib/iruby/command.rb:16:in `run'\u001b[0m",
        "\u001b[37m/usr/local/rvm/gems/ruby-2.0.0-p0/gems/iruby-0.1.13/bin/iruby:6:in `<top (required)>'\u001b[0m",
        "\u001b[37m/usr/local/rvm/gems/ruby-2.0.0-p0/bin/iruby:23:in `load'\u001b[0m",
        "\u001b[37m/usr/local/rvm/gems/ruby-2.0.0-p0/bin/iruby:23:in `<main>'\u001b[0m",
        "\u001b[37m/usr/local/rvm/gems/ruby-2.0.0-p0/bin/ruby_noexec_wrapper:14:in `eval'\u001b[0m",
        "\u001b[37m/usr/local/rvm/gems/ruby-2.0.0-p0/bin/ruby_noexec_wrapper:14:in `<main>'\u001b[0m"
       ]
      }
     ],
     "prompt_number": 4
    }
   ],
   "metadata": {}
  }
 ]
}