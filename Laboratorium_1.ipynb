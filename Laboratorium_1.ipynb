{
 "metadata": {
  "language": "ruby",
  "name": "",
  "signature": "sha256:0c65169f77524ece0908714652363135e9f47ba302dfda743f82654dc1c31e40"
 },
 "nbformat": 3,
 "nbformat_minor": 0,
 "worksheets": [
  {
   "cells": [
    {
     "cell_type": "heading",
     "level": 1,
     "metadata": {},
     "source": [
      "\u0141a\u0144cuchy znak\u00f3w"
     ]
    },
    {
     "cell_type": "heading",
     "level": 2,
     "metadata": {},
     "source": [
      "Cudzys\u0142owy"
     ]
    },
    {
     "cell_type": "markdown",
     "metadata": {},
     "source": [
      "Wy\u015bwietl na ektranie \u0142a\u0144cuch znak\u00f3w otoczony podw\u00f3jnymi cudzys\u0142owami `\"`. U\u017cyj znaku w-ty\u0142-ciach `\\` aby wprowadzi\u0107 znaki specjalne, np.:\n",
      "* `\\n` - znak nowej linii\n",
      "* `\\t` - znak tabulacji poziomej\n",
      "* `\\v` - znak tabulacji pionowej\n",
      "\n",
      "Przyk\u0142ad\n",
      "```ruby\n",
      "puts \"Ala ma kota.\\nAnia ma psa.\"\n",
      "```"
     ]
    },
    {
     "cell_type": "code",
     "collapsed": false,
     "input": [
      "puts \"Ala ma kota.\\nAnia ma psa.\"\n",
      "\n"
     ],
     "language": "python",
     "metadata": {},
     "outputs": [
      {
       "output_type": "stream",
       "stream": "stdout",
       "text": [
        "Ala ma kota.\n",
        "Ania ma psa.\n"
       ]
      }
     ],
     "prompt_number": 1
    },
    {
     "cell_type": "markdown",
     "metadata": {},
     "source": [
      "Wy\u015bwietl \u0142a\u0144cuch znak\u00f3w otoczony pojedynczymi cudzys\u0142owami `'`. Sprawd\u017a dzia\u0142anie znaku `\\`.\n",
      "\n",
      "Przyk\u0142ad\n",
      "\n",
      "```ruby\n",
      "puts 'Ala ma kota.\\nAnia ma psa.'\n",
      "```"
     ]
    },
    {
     "cell_type": "code",
     "collapsed": false,
     "input": [
      "puts 'Ala ma kota.\\nAnia ma psa.'"
     ],
     "language": "python",
     "metadata": {},
     "outputs": [
      {
       "output_type": "stream",
       "stream": "stdout",
       "text": [
        "Ala ma kota.\\nAnia ma psa.\n"
       ]
      }
     ],
     "prompt_number": 2
    },
    {
     "cell_type": "heading",
     "level": 3,
     "metadata": {},
     "source": [
      "Zadanie 1"
     ]
    },
    {
     "cell_type": "markdown",
     "metadata": {},
     "source": [
      "Stw\u00f3rz napis kt\u00f3ry wy\u015bwietla si\u0119 w trzech liniach."
     ]
    },
    {
     "cell_type": "code",
     "collapsed": false,
     "input": [
      "puts \"Dzie\u0144 dobry. \\nDzie\u0144 dobry \\nWitam. \"\n"
     ],
     "language": "python",
     "metadata": {},
     "outputs": [
      {
       "output_type": "stream",
       "stream": "stdout",
       "text": [
        "Dzie\u0144 dobry. \n",
        "Dzie\u0144 dobry \n",
        "Witam. \n"
       ]
      }
     ],
     "prompt_number": 3
    },
    {
     "cell_type": "heading",
     "level": 3,
     "metadata": {},
     "source": [
      "Zadanie 2"
     ]
    },
    {
     "cell_type": "markdown",
     "metadata": {},
     "source": [
      "Stw\u00f3rz napis w kt\u00f3rym wyst\u0119puje podw\u00f3jny cudzys\u0142\u00f3w."
     ]
    },
    {
     "cell_type": "code",
     "collapsed": false,
     "input": [
      "puts \"\\\"jsuhicjkvnxiuv\\\" \""
     ],
     "language": "python",
     "metadata": {},
     "outputs": [
      {
       "output_type": "stream",
       "stream": "stdout",
       "text": [
        "\"jsuhicjkvnxiuv\" \n"
       ]
      }
     ],
     "prompt_number": 4
    },
    {
     "cell_type": "heading",
     "level": 2,
     "metadata": {},
     "source": [
      "Interpolacja"
     ]
    },
    {
     "cell_type": "markdown",
     "metadata": {},
     "source": [
      "W Rubim aby wstawi\u0107 warto\u015b\u0107 zmiennej do \u0142a\u0144cucha mo\u017cna u\u017cy\u0107 _interpolacji_. Korzystaj\u0105c z sekwencji #{} mo\u017cna do \u0142a\u0144cucha wstawi\u0107 dowolny kod Rubiego.\n",
      "\n",
      "Sprawd\u017a dzia\u0142anie interpolacji z wykorzystaniem zmiennych.\n",
      "\n",
      "Przyk\u0142ad\n",
      "```ruby\n",
      "imie = \"Aniu\"\n",
      "puts \"Witaj #{imie}\"\n",
      "```"
     ]
    },
    {
     "cell_type": "code",
     "collapsed": false,
     "input": [
      "imie = \"Aniu\"\n",
      "puts \"Witaj #{imie}\""
     ],
     "language": "python",
     "metadata": {},
     "outputs": [
      {
       "output_type": "stream",
       "stream": "stdout",
       "text": [
        "Witaj Aniu\n"
       ]
      }
     ],
     "prompt_number": 5
    },
    {
     "cell_type": "markdown",
     "metadata": {},
     "source": [
      "Podobny efekt mo\u017cna uzyska\u0107 za pomoc\u0105 operatora dodawania `+`. \n",
      "\n",
      "Przyk\u0142ad\n",
      "```ruby\n",
      "imie = \"Aniu\"\n",
      "puts \"Witaj \" + imie\n",
      "```"
     ]
    },
    {
     "cell_type": "code",
     "collapsed": false,
     "input": [
      "imie = \"Aniu\"\n",
      "puts \"Witaj \" + imie"
     ],
     "language": "python",
     "metadata": {},
     "outputs": [
      {
       "output_type": "stream",
       "stream": "stdout",
       "text": [
        "Witaj Aniu\n"
       ]
      }
     ],
     "prompt_number": 6
    },
    {
     "cell_type": "markdown",
     "metadata": {},
     "source": [
      "Istnieje jednak istotna r\u00f3\u017cnica pomi\u0119dzy tymi narz\u0119dziami. W przypadku interpolacji zawsze niejawnie nast\u0119puje zamiana warto\u015bci\n",
      "na \u0142a\u0144cuch znak\u00f3w. W przypadku dodawania nic takiego si\u0119 nie dzieje, wi\u0119c warto\u015b\u0107 musi ju\u017c by\u0107 \u0142a\u0144cuchem.\n",
      "  \n",
      "Spr\u00f3buj wykona\u0107 nast\u0119puj\u0105cy kod:\n",
      "```ruby\n",
      "imie = \"Aniu\"\n",
      "puts \"Witaj \" + imie\n",
      "liczba = 2\n",
      "puts \"Witaj \" + liczba\n",
      "```"
     ]
    },
    {
     "cell_type": "code",
     "collapsed": false,
     "input": [
      "imie = \"Aniu\"\n",
      "puts \"Witaj \" + imie\n",
      "liczba = 2\n",
      "puts \"Witaj \" + liczba"
     ],
     "language": "python",
     "metadata": {},
     "outputs": [
      {
       "output_type": "stream",
       "stream": "stdout",
       "text": [
        "Witaj Aniu\n"
       ]
      },
      {
       "ename": "TypeError",
       "evalue": "no implicit conversion of Fixnum into String",
       "output_type": "pyerr",
       "traceback": [
        "\u001b[31mTypeError\u001b[0m: no implicit conversion of Fixnum into String",
        "\u001b[37m<main>:3:in `+'\u001b[0m",
        "\u001b[37m<main>:3:in `<main>'\u001b[0m",
        "\u001b[37m/usr/local/rvm/gems/ruby-2.0.0-p0/gems/iruby-0.1.13/lib/iruby/backend.rb:8:in `eval'\u001b[0m",
        "\u001b[37m/usr/local/rvm/gems/ruby-2.0.0-p0/gems/iruby-0.1.13/lib/iruby/backend.rb:8:in `eval'\u001b[0m",
        "\u001b[37m/usr/local/rvm/gems/ruby-2.0.0-p0/gems/iruby-0.1.13/lib/iruby/kernel.rb:110:in `execute_request'\u001b[0m",
        "\u001b[37m/usr/local/rvm/gems/ruby-2.0.0-p0/gems/iruby-0.1.13/lib/iruby/kernel.rb:62:in `run'\u001b[0m",
        "\u001b[37m/usr/local/rvm/gems/ruby-2.0.0-p0/gems/iruby-0.1.13/lib/iruby/command.rb:30:in `run_kernel'\u001b[0m",
        "\u001b[37m/usr/local/rvm/gems/ruby-2.0.0-p0/gems/iruby-0.1.13/lib/iruby/command.rb:16:in `run'\u001b[0m",
        "\u001b[37m/usr/local/rvm/gems/ruby-2.0.0-p0/gems/iruby-0.1.13/bin/iruby:6:in `<top (required)>'\u001b[0m",
        "\u001b[37m/usr/local/rvm/gems/ruby-2.0.0-p0/bin/iruby:23:in `load'\u001b[0m",
        "\u001b[37m/usr/local/rvm/gems/ruby-2.0.0-p0/bin/iruby:23:in `<main>'\u001b[0m",
        "\u001b[37m/usr/local/rvm/gems/ruby-2.0.0-p0/bin/ruby_noexec_wrapper:14:in `eval'\u001b[0m",
        "\u001b[37m/usr/local/rvm/gems/ruby-2.0.0-p0/bin/ruby_noexec_wrapper:14:in `<main>'\u001b[0m"
       ]
      }
     ],
     "prompt_number": 7
    },
    {
     "cell_type": "markdown",
     "metadata": {},
     "source": [
      "Aby weliminowa\u0107 wyst\u0119puj\u0105cy problem, konieczne jest wcze\u015bniejsze zamienienie liczby na \u0142a\u0144cuch znak\u00f3w.\n",
      "S\u0142u\u017cy do tego metoda `to_s`.\n",
      "\n",
      "Przyk\u0142ad\n",
      "```ruby\n",
      "liczba = 2\n",
      "puts \"Witaj \" + liczba.to_s\n",
      "```"
     ]
    },
    {
     "cell_type": "code",
     "collapsed": false,
     "input": [
      "liczba = 2\n",
      "puts \"Witaj \" + liczba.to_s"
     ],
     "language": "python",
     "metadata": {},
     "outputs": [
      {
       "output_type": "stream",
       "stream": "stdout",
       "text": [
        "Witaj 2\n"
       ]
      }
     ],
     "prompt_number": 8
    },
    {
     "cell_type": "markdown",
     "metadata": {},
     "source": [
      "W przypadku interpolacji metoda `to_s` jest wywo\u0142ywana niejawnie. Je\u015bli zatem umieszczasz warto\u015bci r\u00f3\u017cnych zmiennych w napisie,\n",
      "pro\u015bciej jest u\u017cy\u0107 interpolacji.\n",
      "\n",
      "Jednak\u017ce interpolacja nie dzia\u0142a w przypadku \u0142a\u0144cuch\u00f3w otoczonych pojedynczymi cudzys\u0142owami.\n",
      "\n",
      "Przyk\u0142ad\n",
      "```ruby\n",
      "liczba = 2\n",
      "puts 'Witaj #{liczba}'\n",
      "```"
     ]
    },
    {
     "cell_type": "code",
     "collapsed": false,
     "input": [
      "liczba = 2\n",
      "puts 'Witaj #{liczba}'"
     ],
     "language": "python",
     "metadata": {},
     "outputs": [
      {
       "output_type": "stream",
       "stream": "stdout",
       "text": [
        "Witaj #{liczba}\n"
       ]
      }
     ],
     "prompt_number": 9
    },
    {
     "cell_type": "heading",
     "level": 3,
     "metadata": {},
     "source": [
      "Zadanie 3"
     ]
    },
    {
     "cell_type": "markdown",
     "metadata": {},
     "source": [
      "Obliczy wynik podzielenia 777 przez 11. Wynik wy\u015bwietl w postaci komunikatu: \"Wynik dzielenia 777 przez 11 to:...\""
     ]
    },
    {
     "cell_type": "code",
     "collapsed": false,
     "input": [
      "liczba1 = 777\n",
      "liczba2 = 11\n",
      "wynik = liczba1/liczba2\n",
      "puts \" Wynik dzielenia #{liczba1} przez #{liczba2} to #{wynik}\""
     ],
     "language": "python",
     "metadata": {},
     "outputs": [
      {
       "output_type": "stream",
       "stream": "stdout",
       "text": [
        " Wynik dzielenia 777 przez 11 to 70\n"
       ]
      }
     ],
     "prompt_number": 12
    },
    {
     "cell_type": "heading",
     "level": 2,
     "metadata": {},
     "source": [
      "Dokumenty zagnie\u017cd\u017cone"
     ]
    },
    {
     "cell_type": "markdown",
     "metadata": {},
     "source": [
      "Czasami w programie przydatne jest u\u017cycie \u0142a\u0144cucha sk\u0142adaj\u0105cego si\u0119 z wielu wierszy. \n",
      "Mo\u017cna to zrobi\u0107 nast\u0119puj\u0105co:\n",
      "\n",
      "```ruby\n",
      "napis = \"Ala ma kota.\\nAnia ma psa.\\nOla ma szynszyle\"\n",
      "```\n",
      "\n",
      "Wygodniej jest jednak u\u017cy\u0107 dokument\u00f3w zagnie\u017cd\u017conych. Dokument taki zaczyna si\u0119\u00a0od sekwencji `<<`, po kt\u00f3rej pojawia si\u0119 \u0142a\u0144cuch znak\u00f3w, oznaczaj\u0105cy koniec - _znacznik ko\u0144ca_. Ca\u0142y tekst, a\u017c do wyst\u0105pienia znacznika ko\u0144ca, traktowany jest jak pojedynczy \u0142a\u0144cuch oddzielony znakami nowej linii.\n",
      "\n",
      "Przyk\u0142ad\n",
      "```\n",
      "tekst = <<END_OF_STRING\n",
      "Remember those walls I built?\n",
      "Well, baby they're tumbling down\n",
      "And they didn't even put up a fight\n",
      "They didn't even make a sound\n",
      "I found a way to let you in\n",
      "But, I never really had a doubt\n",
      "Standing in the light of your halo\n",
      "I got my angel now\n",
      "END_OF_STRING\n",
      "\n",
      "puts tekst\n",
      "```"
     ]
    },
    {
     "cell_type": "code",
     "collapsed": false,
     "input": [
      "tekst = <<END_OF_STRING\n",
      "Remember those walls I built?\n",
      "Well, baby they're tumbling down\n",
      "And they didn't even put up a fight\n",
      "They didn't even make a sound\n",
      "I found a way to let you in\n",
      "But, I never really had a doubt\n",
      "Standing in the light of your halo\n",
      "I got my angel now\n",
      "END_OF_STRING\n",
      "\n",
      "puts tekst"
     ],
     "language": "python",
     "metadata": {},
     "outputs": [
      {
       "output_type": "stream",
       "stream": "stdout",
       "text": [
        "Remember those walls I built?\n",
        "Well, baby they're tumbling down\n",
        "And they didn't even put up a fight\n",
        "They didn't even make a sound\n",
        "I found a way to let you in\n",
        "But, I never really had a doubt\n",
        "Standing in the light of your halo\n",
        "I got my angel now\n",
        "\n"
       ]
      }
     ],
     "prompt_number": 13
    },
    {
     "cell_type": "markdown",
     "metadata": {},
     "source": [
      "**Wa\u017cna uwaga** - interpolacja dzia\u0142a r\u00f3wnie\u017c wewn\u0105trz dokument\u00f3w zagnie\u017cd\u017conych."
     ]
    },
    {
     "cell_type": "heading",
     "level": 2,
     "metadata": {},
     "source": [
      "Operacje na \u0142a\u0144cuchach"
     ]
    },
    {
     "cell_type": "markdown",
     "metadata": {},
     "source": [
      "Poza dodawaniem, \u0142a\u0144cuchy mo\u017cna r\u00f3wnie\u017c mno\u017cy\u0107, _konkatenowa\u0107_ (wyd\u0142u\u017ca\u0107) oraz formatowa\u0107. \n",
      "\n",
      "Mno\u017cenie polega na zwielokrotnieniu zawarto\u015bci \u0142a\u0144cucha:\n",
      "```ruby\n",
      "puts \"Ala \" * 3\n",
      "```"
     ]
    },
    {
     "cell_type": "code",
     "collapsed": false,
     "input": [
      "puts \"Ala \" * 3"
     ],
     "language": "python",
     "metadata": {},
     "outputs": [
      {
       "output_type": "stream",
       "stream": "stdout",
       "text": [
        "Ala Ala Ala \n"
       ]
      }
     ],
     "prompt_number": 14
    },
    {
     "cell_type": "heading",
     "level": 3,
     "metadata": {},
     "source": [
      "Zadanie 4"
     ]
    },
    {
     "cell_type": "markdown",
     "metadata": {},
     "source": [
      "Wy\u015bwietl tabelk\u0119 o postaci\n",
      "\n",
      "```\n",
      "+---------+\n",
      "|         |\n",
      "|         |\n",
      "+---------+\n",
      "```\n",
      "sk\u0142adaj\u0105c\u0105 si\u0119 z 10 kolumn i 5 linii (nie licz\u0105c obramowania). Wykorzystaj do tego operacj\u0119 mno\u017cenia.\n",
      "Aby pot\u00f3rzy\u0107 jak\u0105\u015b operacj\u0119 mo\u017cesz skorzysta\u0107 z poni\u017cszego kodu:\n",
      "```ruby\n",
      "3.times{ puts \"x\" }\n",
      "```"
     ]
    },
    {
     "cell_type": "code",
     "collapsed": false,
     "input": [
      "puts '+' + \"-\" * 10 + '+' \n",
      "4.times {puts '|' + \" \" *10 + '|'}\n",
      "\n",
      "puts '+' + \"-\" * 10 + '+' "
     ],
     "language": "python",
     "metadata": {},
     "outputs": [
      {
       "output_type": "stream",
       "stream": "stdout",
       "text": [
        "+----------+\n"
       ]
      },
      {
       "output_type": "stream",
       "stream": "stdout",
       "text": [
        "|          |\n"
       ]
      },
      {
       "output_type": "stream",
       "stream": "stdout",
       "text": [
        "|          |\n"
       ]
      },
      {
       "output_type": "stream",
       "stream": "stdout",
       "text": [
        "|          |\n"
       ]
      },
      {
       "output_type": "stream",
       "stream": "stdout",
       "text": [
        "|          |\n"
       ]
      },
      {
       "output_type": "stream",
       "stream": "stdout",
       "text": [
        "+----------+\n"
       ]
      }
     ],
     "prompt_number": 56
    },
    {
     "cell_type": "markdown",
     "metadata": {},
     "source": [
      "Kontatenowanie polega na doklejaniu tre\u015bci do \u0142a\u0144cucha, kt\u00f3ry jest przypisany do zmiennej:\n",
      "```ruby\n",
      "tekst = \"Remember those walls I built? \"\n",
      "tekst << \"Well, baby they're tumbling down\"\n",
      "puts tekst\n",
      "```"
     ]
    },
    {
     "cell_type": "code",
     "collapsed": false,
     "input": [
      "tekst = \"Remember those walls I built? \"\n",
      "tekst << \"Well, baby they're tumbling down\"\n",
      "puts tekst"
     ],
     "language": "python",
     "metadata": {},
     "outputs": [
      {
       "output_type": "stream",
       "stream": "stdout",
       "text": [
        "Remember those walls I built? Well, baby they're tumbling down\n"
       ]
      }
     ],
     "prompt_number": 57
    },
    {
     "cell_type": "markdown",
     "metadata": {},
     "source": [
      "U\u017cycie operatora `+` w tym wypadku nie da\u0142oby takiego efektu:\n",
      "```ruby\n",
      "tekst = \"Remember those walls I built? \"\n",
      "tekst + \"Well, baby they're tumbling down\"\n",
      "puts tekst\n",
      "```"
     ]
    },
    {
     "cell_type": "code",
     "collapsed": true,
     "input": [
      "tekst = \"Remember those walls I built? \"\n",
      "wynik =tekst + \"Well, baby they're tumbling down\"\n",
      "puts wynik"
     ],
     "language": "python",
     "metadata": {},
     "outputs": [
      {
       "output_type": "stream",
       "stream": "stdout",
       "text": [
        "Remember those walls I built? Well, baby they're tumbling down\n"
       ]
      }
     ],
     "prompt_number": 59
    },
    {
     "cell_type": "markdown",
     "metadata": {},
     "source": [
      "Formatowanie jest za\u015b analogiczne do dzia\u0142ania funkcji `printf` w j\u0119cyku C:\n",
      "```ruby\n",
      "puts \"Liczba %.2f\" % 3.567891\n",
      "```"
     ]
    },
    {
     "cell_type": "code",
     "collapsed": false,
     "input": [
      "puts \"Liczba %.2f\" % 3.567891"
     ],
     "language": "python",
     "metadata": {},
     "outputs": [
      {
       "output_type": "stream",
       "stream": "stdout",
       "text": [
        "Liczba 3.57\n"
       ]
      }
     ],
     "prompt_number": 61
    },
    {
     "cell_type": "markdown",
     "metadata": {},
     "source": [
      "**Uwaga** podobnie jak w j\u0119zyku C, formatowanie powoduje zaokr\u0105glenie warto\u015bci liczby."
     ]
    },
    {
     "cell_type": "heading",
     "level": 3,
     "metadata": {},
     "source": [
      "Zadanie 5"
     ]
    },
    {
     "cell_type": "markdown",
     "metadata": {},
     "source": [
      "Wy\u015bwietl warto\u015b\u0107\u00a0\"1.55555555\" z dok\u0142adno\u015bci\u0105 do trzech miejsca po przecinku."
     ]
    },
    {
     "cell_type": "code",
     "collapsed": false,
     "input": [
      "puts \"Liczba %.3f\" % 1.55555555"
     ],
     "language": "python",
     "metadata": {},
     "outputs": [
      {
       "output_type": "stream",
       "stream": "stdout",
       "text": [
        "Liczba 1.556\n"
       ]
      }
     ],
     "prompt_number": 62
    }
   ],
   "metadata": {}
  }
 ]
}