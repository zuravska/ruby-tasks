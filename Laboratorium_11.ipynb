{
 "metadata": {
  "language": "ruby",
  "name": "",
  "signature": "sha256:357a5b8380a51fbe598790a87524e0d157ae0ef32874a61444897d1e88f86a7c"
 },
 "nbformat": 3,
 "nbformat_minor": 0,
 "worksheets": [
  {
   "cells": [
    {
     "cell_type": "heading",
     "level": 1,
     "metadata": {},
     "source": [
      "Programowanie obiektowe"
     ]
    },
    {
     "cell_type": "heading",
     "level": 2,
     "metadata": {},
     "source": [
      "Uzasadnienie"
     ]
    },
    {
     "cell_type": "markdown",
     "metadata": {},
     "source": [
      "W zasadzie we wszystkich z\u0142o\u017conych programach zachodzi potrzeba przesy\u0142ania i przetwarzania struktur danych, w kt\u00f3rych \n",
      "proste dane s\u0105 \u015bci\u015ble ze sob\u0105 powi\u0105zane. Najprostszym przyk\u0142adem danych tego rodzaju mog\u0105 by\u0107 dane dotycz\u0105ce\n",
      "pojedynczej osoby reprezentowanej w systemie, np.\n",
      "* imi\u0119\n",
      "* nazisko\n",
      "* adres e-mail.\n",
      "\n",
      "Jednym z rozwi\u0105za\u0144 dost\u0119pnych w j\u0119zyku Ruby, s\u0142u\u017c\u0105cych po\u0142\u0105czeniu tego rodzaju danych jest wykorzystanie tablicy \n",
      "asocjacyjnej. Tablica asocjacyjna (w przeciwie\u0144stwie do zwyk\u0142ej tablicy) pozwala odwo\u0142ywa\u0107 si\u0119 do swoich sk\u0142adowych za \n",
      "pomoc\u0105 dowolnych warto\u015bci (a nie tylko liczb naturalnych, jak to ma miejsce w przypadku tablicy zwyk\u0142ej). \n",
      "\n",
      "Przyk\u0142adowa tablica asocjacyjna mo\u017ce wygl\u0105da\u0107 nast\u0119puj\u0105co:\n",
      "```ruby\n",
      "osoba = {name: \"Andrzej\", surname: \"Kowalski\", email: \"andrzej@kowalski.com\"}\n",
      "```\n",
      "\n",
      "W tym wypadku kluczami w tablicy asocjacyjnej s\u0105 symbole. Po stworzeniu takiej tablicy mo\u017cemy odwo\u0142ywa\u0107 si\u0119 do indywidualnych\n",
      "sk\u0142adowych:\n",
      "```ruby\n",
      "puts osoba[:name]  #=> Andrzej\n",
      "puts osoba[:email] #=> andrzej@kowalski.com\n",
      "```"
     ]
    },
    {
     "cell_type": "code",
     "collapsed": false,
     "input": [],
     "language": "python",
     "metadata": {},
     "outputs": [],
     "prompt_number": 5
    },
    {
     "cell_type": "markdown",
     "metadata": {},
     "source": [
      "Zastosowanie tablic asocjacyjnych mo\u017ce wydawa\u0107 si\u0119 dobrym sposobem na reprezentowanie z\u0142o\u017conych struktur danych. \n",
      "Przyk\u0142adowo, mo\u017cemy napisa\u0107 metod\u0119 `wyswietl_wizytowke`, kt\u00f3ra akceptuje tablic\u0119 asocjacyjn\u0105 reprezentuj\u0105c\u0105 osob\u0119 i \n",
      "wy\u015bwietla istotne informacje na temat tej osoby:\n",
      "```ruby\n",
      "def wyswietl_wizytowke(osoba)\n",
      "  puts \"-\" * 42\n",
      "  puts \"| %-38s |\" % \"#{osoba[:name][0]}. #{osoba[:surname]}\"\n",
      "  puts \"| %-38s |\" % \"e-mail: #{osoba[:email]}\"\n",
      "  puts \"-\" * 42\n",
      "end\n",
      "\n",
      "osoba1 = {name: \"Andrzej\", surname: \"Kowalski\", email: \"andrzej@kowalski.com\"}\n",
      "osoba2 = {name: \"Anna\", surname: \"Malinowska\", email: \"anna@malinowski.com\"}\n",
      "\n",
      "wyswietl_wizytowke(osoba1)\n",
      "wyswietl_wizytowke(osoba2)\n",
      "```\n"
     ]
    },
    {
     "cell_type": "code",
     "collapsed": false,
     "input": [],
     "language": "python",
     "metadata": {},
     "outputs": [],
     "prompt_number": 13
    },
    {
     "cell_type": "markdown",
     "metadata": {},
     "source": [
      "Niestety rozwi\u0105zanie takie posiada istotne wady. Jedn\u0105 z nich jest to, \u017ce nie mamy \u017cadnej kontroli nad tym, jakie dane\n",
      "zostan\u0105 przekazane do metody `wyswietl_wizytowke`. Przyk\u0142adowo mo\u017cemy stworzy\u0107 tablic\u0119 asocjacyjn\u0105, kt\u00f3ry nie zawiera \n",
      "wszystkich wymaganych danych, co prowadzi do b\u0142\u0119du:\n",
      "```ruby\n",
      "osoba3 = {surname: \"Kowalski\", email: \"andrzej@kowalski.com\"}\n",
      "wyswietl_wizytowke(osoba3)\n",
      "```"
     ]
    },
    {
     "cell_type": "code",
     "collapsed": false,
     "input": [
      " "
     ],
     "language": "python",
     "metadata": {},
     "outputs": [],
     "prompt_number": 15
    },
    {
     "cell_type": "markdown",
     "metadata": {},
     "source": [
      "Inny problem polega na tym, \u017ce je\u015bli b\u0119dziemy mieli dane innego typu, np. dane dotycz\u0105ce firmy i b\u0119dziemy chcieli stworzy\u0107 podobn\u0105 metod\u0119 wy\u015bwietlaj\u0105c\u0105 wizyt\u00f3wk\u0119 dla danych firmowych, to b\u0119dzimy zmuszeni do zastosowania jednego z dw\u00f3ch rozwi\u0105za\u0144:\n",
      "* dodania `typu` do tablicy asocjacyjnej, kt\u00f3ry pozwoli odr\u00f3\u017cni\u0107 jedne dane od innych,\n",
      "* u\u017cycia innej nazwy dla funkcji, kt\u00f3rej przeznaczenie jest podobne."
     ]
    },
    {
     "cell_type": "heading",
     "level": 3,
     "metadata": {},
     "source": [
      "Pami\u0119tanie typu struktury"
     ]
    },
    {
     "cell_type": "markdown",
     "metadata": {},
     "source": [
      "Przyjrzyjmy si\u0119 pierwszemu rozwi\u0105zaniu.\n",
      "```ruby\n",
      "def wyswietl_wizytowke(dane)\n",
      "  case dane[:type]\n",
      "  when \"osoba\"\n",
      "    pierwsza_linia = \"#{dane[:name][0]}. #{dane[:surname]}\"\n",
      "    druga_linia = \"e-mail: #{dane[:email]}\"\n",
      "  when \"firma\"\n",
      "    pierwsza_linia = \"#{dane[:name]}\"\n",
      "    druga_linia =  \"adres: #{dane[:street]}, #{dane[:city]}\"\n",
      "  end\n",
      "  puts \"-\" * 42\n",
      "  puts \"| %-38s |\" % pierwsza_linia\n",
      "  puts \"| %-38s |\" % druga_linia\n",
      "  puts \"-\" * 42\n",
      "end\n",
      "\n",
      "firma1 = {name: \"Garnki Inc.\", street: \"Blaszana 10\", city: \"Emaliowo\", type: \"firma\" }\n",
      "osoba1 = {name: \"Andrzej\", surname: \"Kowalski\", email: \"andrzej@kowalski.com\", type: \"osoba\"}\n",
      "\n",
      "wyswietl_wizytowke(osoba1)\n",
      "wyswietl_wizytowke(firma1)\n",
      "```"
     ]
    },
    {
     "cell_type": "code",
     "collapsed": false,
     "input": [],
     "language": "python",
     "metadata": {},
     "outputs": [],
     "prompt_number": 22
    },
    {
     "cell_type": "markdown",
     "metadata": {},
     "source": [
      "Problem z tym rozwi\u0105zaniem polega na tym, \u017ce fukcja `wyswietl_wizytowke` b\u0119dzie musia\u0142a by\u0107 zmodyfikowana za ka\u017cdym razem, kiedy b\u0119dziemy chcieli doda\u0107 nowy typ danych. Je\u015bli takich funkcji by\u0142oby wi\u0119cej, to dodanie nowego typu danych wymaga\u0142oby modyfikacji znacznej cz\u0119\u015bci naszego programu. Rozwi\u0105zanie takie by\u0142oby zatem bardzo kosztowne ze wzgl\u0119du na rozszerzenie listy obs\u0142ugiwanych\n",
      "typ\u00f3w. Ponadto w strukturze danych musieliby\u015bmy za ka\u017cdym razem pami\u0119ta\u0107 jej typ."
     ]
    },
    {
     "cell_type": "heading",
     "level": 3,
     "metadata": {},
     "source": [
      "Odmienne nazwy funkcji"
     ]
    },
    {
     "cell_type": "markdown",
     "metadata": {},
     "source": [
      "Drugie rozwi\u0105zanie wygl\u0105da nast\u0119puj\u0105co:\n",
      "```ruby\n",
      "def wyswietl_wizytowke_osoby(osoba)\n",
      "  puts \"-\" * 42\n",
      "  puts \"| %-38s |\" % \"#{osoba[:name][0]}. #{osoba[:surname]}\"\n",
      "  puts \"| %-38s |\" % \"e-mail: #{osoba[:email]}\"\n",
      "  puts \"-\" * 42\n",
      "end\n",
      "def wyswietl_wizytowke_firmy(firma)\n",
      "  puts \"-\" * 42\n",
      "  puts \"| %-38s |\" % \"#{firma[:name]}\"\n",
      "  puts \"| %-38s |\" % \"adres: #{firma[:street]}, #{firma[:city]}\"\n",
      "  puts \"-\" * 42\n",
      "end\n",
      "\n",
      "firma1 = {name: \"Garnki Inc.\", street: \"Blaszana 10\", city: \"Emaliowo\"}\n",
      "osoba1 = {name: \"Andrzej\", surname: \"Kowalski\", email: \"andrzej@kowalski.com\"}\n",
      "\n",
      "wyswietl_wizytowke_osoby(osoba1)\n",
      "wyswietl_wizytowke_firmy(firma1)\n",
      "```"
     ]
    },
    {
     "cell_type": "code",
     "collapsed": false,
     "input": [],
     "language": "python",
     "metadata": {},
     "outputs": [],
     "prompt_number": 24
    },
    {
     "cell_type": "markdown",
     "metadata": {},
     "source": [
      "To rozwi\u0105zanie ma pewne zalety, w stosunku do poprzedniego. W szczeg\u00f3lno\u015bci nie musimy modyfikowa\u0107 jednej funkcji aby obs\u0142u\u017cy\u0107 \n",
      "nowy typ danych. Wystarczy, \u017ce dopiszemy nowe funkcje - specyficzne dla tego typu. Problem polega jednak na tym, \u017ce \n",
      "_przestrze\u0144 nazw_ naszego programu szybko si\u0119 zag\u0119szcza. Za ka\u017cdym razem, kiedy tworzymy now\u0105 funkcj\u0105 dla okre\u015blonego typu\n",
      "danych musimy upewni\u0107 si\u0119, \u017ce dana nazwa nie jest ju\u017c zaj\u0119ta przez inny typ danych. Co wi\u0119cej, powinni\u015bmy u\u017cywa\u0107 jakiej\u015b\n",
      "standardowej metody do nazywania funkcji specyficznych dla konkretnego typu. To, \u017ce w praktyce tak si\u0119 nie dzieje bardzo \u0142atwo\n",
      "zilustrowa\u0107 na przyk\u0142adzie funkcji, kt\u00f3re w PHP s\u0142u\u017c\u0105 do manipluowania \u0142a\u0144cuchami znak\u00f3w. Mo\u017cna w\u015br\u00f3d nich znale\u017a\u0107\n",
      "nast\u0119puj\u0105ce nazwy:\n",
      "*  addcslashes\n",
      "*  convert_cyr_string\n",
      "*  convert_uudecode\n",
      "*  count_chars\n",
      "*  implode\n",
      "*  lcfirst\n",
      "*  nl2br\n",
      "*  sha1\n",
      "*  str_getcsv\n",
      "*  str_shuffle\n",
      "*  strcasecmp\n",
      "*  strchr\n",
      "*  strrchr\n",
      "*  strlen\n",
      "\n",
      "Wida\u0107, \u017ce w nazewnictwie tych funkcji nie trzymano si\u0119 \u017cadnej konwencji i w rezultacie odnalezienie wszystkich funkcji zwi\u0105zanych\n",
      "z \u0142a\u0144cuchami znak\u00f3w jest bardzo trudne.\n",
      "\n",
      "To rozwi\u0105zanie ma jeszcze jedno negatywn\u0105 konsekwencj\u0119, kt\u00f3r\u0105 mo\u017cna zilustrowa\u0107 nast\u0119puj\u0105cym przyk\u0142adem. Wybora\u017amy sobie,\n",
      "\u017ce potrzebujemy wy\u015bwietli\u0107 wizyt\u00f3wki dotycz\u0105ce wielu obiekt\u00f3w r\u00f3\u017cnego typu. W pierwszym rozwi\u0105zaniu mo\u017cna zrobi\u0107\n",
      "to do\u015b\u0107 \u0142atwo:\n",
      "```ruby\n",
      "dane = [\n",
      "  {name: \"Garnki Inc.\", street: \"Blaszana 10\", city: \"Emaliowo\", type: \"firma\"},\n",
      "  {name: \"Andrzej\", surname: \"Kowalski\", email: \"andrzej@kowalski.com\", type: \"osoba\"},\n",
      "  {name: \"Anna\", surname: \"Malinowska\", email: \"anna@malinowski.com\", type: \"osoba\"}\n",
      "]\n",
      "dane.each{|d| wyswietl_wizytowke(d) }\n",
      "```"
     ]
    },
    {
     "cell_type": "code",
     "collapsed": false,
     "input": [],
     "language": "python",
     "metadata": {},
     "outputs": [],
     "prompt_number": 27
    },
    {
     "cell_type": "markdown",
     "metadata": {},
     "source": [
      "Drugie podej\u015bcie wymaga od nas znacznie wi\u0119cej pracy - musimy bowiem wiedzie\u0107 kt\u00f3rej metody u\u017cy\u0107. Konieczne jest r\u00f3wnie\u017c \n",
      "dodanie informacji o typie:\n",
      "```ruby\n",
      "dane = [\n",
      "  {name: \"Garnki Inc.\", street: \"Blaszana 10\", city: \"Emaliowo\", type: \"firma\"},\n",
      "  {name: \"Andrzej\", surname: \"Kowalski\", email: \"andrzej@kowalski.com\", type: \"osoba\"},\n",
      "  {name: \"Anna\", surname: \"Malinowska\", email: \"anna@malinowski.com\", type: \"osoba\"}\n",
      "]\n",
      "dane.each do |dana| \n",
      "  case dana[:type]\n",
      "  when \"osoba\"\n",
      "    wyswietl_wizytowke_osoby(d)\n",
      "  when \"firma\"\n",
      "    wyswietl_wizytowke_firmy(d)\n",
      "  end\n",
      "end\n",
      "```"
     ]
    },
    {
     "cell_type": "code",
     "collapsed": false,
     "input": [],
     "language": "python",
     "metadata": {},
     "outputs": [],
     "prompt_number": 29
    },
    {
     "cell_type": "markdown",
     "metadata": {},
     "source": [
      "Co wi\u0119cej, je\u015bli przyjrzymy si\u0119 implementacji funkcji `wyswietl_wizytowke_osoby` oraz `wyswietl_wizytowke_firmy` to dostrze\u017cemy,\n",
      "\u017ce funkcje te s\u0105 do siebie bardzo podobne."
     ]
    },
    {
     "cell_type": "heading",
     "level": 2,
     "metadata": {},
     "source": [
      "Klasy"
     ]
    },
    {
     "cell_type": "markdown",
     "metadata": {},
     "source": [
      "Klasy, inaczej *typy definiowane przez u\u017cytkownika* pozwalaj\u0105 rozwi\u0105za\u0107 wy\u017cej opisane problemy w elegancki spos\u00f3b. \n",
      "Pozwalaj\u0105 one na definiowanie nowych typ\u00f3w danych, kt\u00f3rych mo\u017cna u\u017cywa\u0107 w spos\u00f3b analogiczny do typ\u00f3w wbudowanych. Przede\n",
      "wszystkim jednak dostarczaj\u0105 one mechanizmu pozwalaj\u0105cego na uproszczenie przetwarzania danych, kt\u00f3re s\u0105 do siebie podobne.\n",
      "\n",
      "Odnosz\u0105c si\u0119 do wcze\u015bniejszego przyk\u0142adu - mo\u017cemy zdefiniowa\u0107 dwa typu danych `Person` oraz `Company`, kt\u00f3re \n",
      "pos\u0142u\u017c\u0105 do reprezentacji danych s\u0142u\u017c\u0105cych do reprezentowania os\u00f3b oraz firm. \n",
      "\n",
      "Zaczniemy od definicji klasy `Person`:\n",
      "```ruby\n",
      "class Person\n",
      "  attr_reader :name, :surname, :email\n",
      "  \n",
      "  def initialize(name,surname,email)\n",
      "    @name = name\n",
      "    @surname = surname\n",
      "    @email = email\n",
      "  end\n",
      "end\n",
      "```\n",
      "\n",
      "Po zdefiniowaniu takiej klasy mo\u017cemy tworzy\u0107 **jej instancje** (osoby) oraz odczytywa\u0107 warto\u015bci jej **atrybut\u00f3w**:\n",
      "```ruby\n",
      "osoba1 = Person.new(\"Andrzej\",\"Kowalski\",\"andrzej@kowalski.com\")\n",
      "puts osoba1.name + \" \" + osoba1.surname\n",
      "puts osoba1.email\n",
      "```"
     ]
    },
    {
     "cell_type": "code",
     "collapsed": false,
     "input": [],
     "language": "python",
     "metadata": {},
     "outputs": [],
     "prompt_number": 4
    },
    {
     "cell_type": "heading",
     "level": 3,
     "metadata": {},
     "source": [
      "Definicja typu"
     ]
    },
    {
     "cell_type": "markdown",
     "metadata": {},
     "source": [
      "Powy\u017csza definicja wymaga wyja\u015bnienia. Klasa definiowana jest za pomoc\u0105 s\u0142owa kluczowego `class` i ko\u0144czy si\u0119 s\u0142owem `end`.\n",
      "Klasa musi r\u00f3wnie\u017c posiada\u0107 unikaln\u0105 nazw\u0119 w tym przypadku `Person`:\n",
      "```ruby\n",
      "class Person\n",
      "  # ...\n",
      "end\n",
      "```\n",
      "\n",
      "Najprostsza definicja klasy sk\u0142ada si\u0119 w\u0142a\u015bnie z dw\u00f3ch linijek:\n",
      "```ruby\n",
      "class Company\n",
      "end\n",
      "```\n",
      "\n",
      "Po jej zdefiniowaniu mo\u017cemy tworzy\u0107 jej obiekty, za pomoc\u0105 wywo\u0142ania `new`:\n",
      "\n",
      "```ruby\n",
      "firma1 = Company.new\n",
      "firma2 = Company.new\n",
      "\n",
      "puts firma1 \n",
      "puts firma2\n",
      "```"
     ]
    },
    {
     "cell_type": "code",
     "collapsed": false,
     "input": [],
     "language": "python",
     "metadata": {},
     "outputs": [],
     "prompt_number": 5
    },
    {
     "cell_type": "markdown",
     "metadata": {},
     "source": [
      "Ka\u017cdy obiekt danej zawiera informacj\u0119 o swoim typie. Mo\u017cemy odwo\u0142a\u0107 si\u0119 do niego za pomoc\u0105 metody `.class`:\n",
      "```ruby\n",
      "firma1 = Company.new\n",
      "osoba1 = Person.new(\"Andrzej\",\"Kowalski\",\"andrzej@kowalski.com\")\n",
      "puts firma1.class\n",
      "puts osoba1.class\n",
      "```"
     ]
    },
    {
     "cell_type": "code",
     "collapsed": false,
     "input": [],
     "language": "python",
     "metadata": {},
     "outputs": [],
     "prompt_number": 8
    },
    {
     "cell_type": "markdown",
     "metadata": {},
     "source": [
      "Dzi\u0119ki temu nie musimy dodawa\u0107 pola, kt\u00f3re pami\u0119ta\u0142oby typ danego obiektu. Mo\u017cemy r\u00f3wnie\u017c sprawdzi\u0107, czy dany obiekt \n",
      "jest instancj\u0105 okre\u015blonej klasy za pomoc\u0105 wywo\u0142ania `is_a?`:\n",
      "```ruby\n",
      "firma1 = Company.new\n",
      "puts firma1.is_a?(Company)\n",
      "puts firma1.is_a?(Person)\n",
      "```"
     ]
    },
    {
     "cell_type": "code",
     "collapsed": false,
     "input": [],
     "language": "python",
     "metadata": {},
     "outputs": [],
     "prompt_number": 10
    },
    {
     "cell_type": "heading",
     "level": 3,
     "metadata": {},
     "source": [
      "Konstruktor"
     ]
    },
    {
     "cell_type": "markdown",
     "metadata": {},
     "source": [
      "Drugim istotnym elementem definicji klasy jest konstruktor, czyli funkcja `initialize` zdefiniowana w obr\u0119bie klasy:\n",
      "```ruby\n",
      "class Person\n",
      "  def initialize(...)\n",
      "  end\n",
      "end\n",
      "```\n",
      "Jest on wywo\u0142ywany w momencie, w kt\u00f3rym tworzony jest nowy obiekt klasy, jako pochodna wywo\u0142ania `new`:\n",
      "\n",
      "```ruby\n",
      "class Company\n",
      "  def initialize\n",
      "    puts \"Tworzymy now\u0105 firm\u0119\"\n",
      "  end\n",
      "end\n",
      "\n",
      "puts \"Przed tworzeniem nowej firmy\"\n",
      "Company.new\n",
      "puts \"Po utworzeniu nowej firmy\"\n",
      "```"
     ]
    },
    {
     "cell_type": "code",
     "collapsed": false,
     "input": [],
     "language": "python",
     "metadata": {},
     "outputs": [],
     "prompt_number": 15
    },
    {
     "cell_type": "markdown",
     "metadata": {},
     "source": [
      "Istnienie konstruktora gwarantuje to, \u017ce obiekt ten b\u0119dzie poprawnie zainicjowany. Nale\u017cy zwr\u00f3ci\u0107 uwag\u0119, \u017ce funkcja ta pojawia si\u0119\n",
      "pomi\u0119dzy s\u0142owem kluczowym `class` a ko\u0144cowym s\u0142owem `end`. Gdyby funkcja ta by\u0142a zdefiniowana poza **cia\u0142em** klasy, \n",
      "nie by\u0142aby w og\u00f3le powi\u0105zana z t\u0105 klas\u0105. \n",
      "\n",
      "Do konstruktora zwykle przekazujemy parametry, kt\u00f3re s\u0105 \"zapami\u0119tywane\" przez dany obiekt lub s\u0105 niezb\u0119dne do jego poprawnej \n",
      "inicjalizacji. Parametry te s\u0105 przekazywane do metody `initialize` z metody `new`:\n",
      "```ruby\n",
      "class Company\n",
      "  def initialize(name)\n",
      "    puts \"Tworzymy firm\u0119 o nazwie '#{name}'\"\n",
      "  end\n",
      "end\n",
      "\n",
      "Company.new(\"Garnki Inc.\")\n",
      "```"
     ]
    },
    {
     "cell_type": "code",
     "collapsed": false,
     "input": [],
     "language": "python",
     "metadata": {},
     "outputs": [],
     "prompt_number": 18
    },
    {
     "cell_type": "markdown",
     "metadata": {},
     "source": [
      "W powy\u017cszym przyk\u0142adzie warto\u015b\u0107 `Garnki Inc.` przekazywana jest do metody `initialize` i wi\u0105zana z parametrem `name`."
     ]
    },
    {
     "cell_type": "heading",
     "level": 3,
     "metadata": {},
     "source": [
      "Atrybuty obiektu"
     ]
    },
    {
     "cell_type": "markdown",
     "metadata": {},
     "source": [
      "Aby obiekt danej klasy \"zapami\u0119ta\u0142\" warto\u015b\u0107 przekazn\u0105 w konstruktorze, konieczne jest przypisanie jej do tzw. **atrybut\u00f3w \n",
      "obiektu**. Popatrzymy najpierw na przyk\u0142ad, w kt\u00f3rym nie korzystamy z atrybut\u00f3w:\n",
      "\n",
      "```ruby\n",
      "class Company\n",
      "  def initialize(name)\n",
      "    puts \"Tworzymy firm\u0119 o nazwie '#{name}'\"\n",
      "  end\n",
      "\n",
      "  def nazwa_firmy\n",
      "    name\n",
      "  end\n",
      "end\n",
      "\n",
      "firma1 = Company.new(\"Garnki Inc.\")\n",
      "puts firma1.nazwa_firmy\n",
      "```"
     ]
    },
    {
     "cell_type": "code",
     "collapsed": false,
     "input": [],
     "language": "python",
     "metadata": {},
     "outputs": [],
     "prompt_number": 20
    },
    {
     "cell_type": "markdown",
     "metadata": {},
     "source": [
      "W powy\u017cszym przyk\u0142adzie wyst\u0105pi\u0142 b\u0142\u0105d, poniewa\u017c w funkcji `nazwa_firmy` odwo\u0142ujemy si\u0119 do zmiennej lokalnej `name`, kt\u00f3ra jest widoczna tylko w obr\u0119bie danej funkcji. Dlatego ta zmienna, cho\u0107 pojawia si\u0119 w funkcjach `initialize` oraz `nazwa_firmy`, w tej \n",
      "drugiej funkcji nie jest zdefiniowana. \n",
      "\n",
      "Aby rozwi\u0105za\u0107 ten problem skorzystamy z atrybutu `@name`:\n",
      "```ruby\n",
      "class Company\n",
      "  def initialize(name)\n",
      "    puts \"Tworzymy firm\u0119 o nazwie '#{name}'\"\n",
      "    @name = name\n",
      "  end\n",
      "\n",
      "  def nazwa_firmy\n",
      "    @name\n",
      "  end\n",
      "end\n",
      "\n",
      "firma1 = Company.new(\"Garnki Inc.\")\n",
      "puts firma1.nazwa_firmy\n",
      "```"
     ]
    },
    {
     "cell_type": "code",
     "collapsed": false,
     "input": [],
     "language": "python",
     "metadata": {},
     "outputs": [],
     "prompt_number": 23
    },
    {
     "cell_type": "markdown",
     "metadata": {},
     "source": [
      "Obiekt klasy `Company` \"zapami\u0119ta\u0142\" warto\u015b\u0107, kt\u00f3ra zosta\u0142a mu przekazana w konstruktorze. Nale\u017cy zwr\u00f3ci\u0107 uwag\u0119, \u017ce ka\u017cdy obiekt\n",
      "ma sw\u00f3j odr\u0119bny zestaw atrybut\u00f3w (swoj\u0105 w\u0142asn\u0105 pami\u0119\u0107):\n",
      "```ruby\n",
      "firma1 = Company.new(\"Garnki Inc.\")\n",
      "puts firma1.nazwa_firmy\n",
      "firma2 = Company.new(\"Fabryka szynszyli\")\n",
      "puts firma2.nazwa_firmy\n",
      "```"
     ]
    },
    {
     "cell_type": "code",
     "collapsed": false,
     "input": [],
     "language": "python",
     "metadata": {},
     "outputs": [],
     "prompt_number": 25
    },
    {
     "cell_type": "markdown",
     "metadata": {},
     "source": [
      "Bardzo wa\u017cn\u0105 cech\u0105 atrybut\u00f3w jest to, \u017ce ich warto\u015b\u0107 mo\u017ce si\u0119 zmienia\u0107 odzwierciedlaj\u0105c zmiany **stanu** obiektu:\n",
      "\n",
      "```ruby\n",
      "class Company\n",
      "  def initialize(name)\n",
      "    @name = name\n",
      "  end\n",
      "\n",
      "  def nazwa_firmy\n",
      "    @name\n",
      "  end\n",
      "  \n",
      "  def rebranding(new_name)\n",
      "    @name = new_name\n",
      "  end\n",
      "end\n",
      "\n",
      "firma1 = Company.new(\"Garnki Palikota Inc.\")\n",
      "puts firma1.nazwa_firmy\n",
      "firma1.rebranding(\"Twoje Garnki Inc.\")\n",
      "puts firma1.nazwa_firmy\n",
      "```"
     ]
    },
    {
     "cell_type": "code",
     "collapsed": false,
     "input": [],
     "language": "python",
     "metadata": {},
     "outputs": [],
     "prompt_number": 27
    },
    {
     "cell_type": "markdown",
     "metadata": {},
     "source": [
      "Warto r\u00f3wnie\u017c doda\u0107, \u017ce w Rubim atrybuty mog\u0105 by\u0107 inicjowane w dowolnej funkcji, a nie tylko w konstruktorze."
     ]
    },
    {
     "cell_type": "heading",
     "level": 3,
     "metadata": {},
     "source": [
      "Akcesory (metody dost\u0119powe)"
     ]
    },
    {
     "cell_type": "markdown",
     "metadata": {},
     "source": [
      "Poniewa\u017c odczytywanie i zapisywanie warto\u015bci atrybut\u00f3w powszechnie wyst\u0119puj\u0105 w implementacji r\u00f3\u017cnych klas, w Rubim mo\u017cna \n",
      "wykorzysta\u0107 **makra**:\n",
      "* attr_reader\n",
      "* attr_writer\n",
      "* attr_accessor\n",
      "\n",
      "kt\u00f3re tworz\u0105 metody dost\u0119powe. Zaczniejmy od tej ostatniej:\n",
      "\n",
      "```ruby\n",
      "class Company\n",
      "  attr_accessor :name\n",
      "  def initialize(name)\n",
      "    @name = name\n",
      "  end\n",
      "end\n",
      "\n",
      "firma1 = Company.new(\"Garnki Palikota Inc.\")\n",
      "puts firma1.name\n",
      "firma1.name = \"Twoje Garnki Inc.\"\n",
      "puts firma1.name\n",
      "```"
     ]
    },
    {
     "cell_type": "code",
     "collapsed": false,
     "input": [],
     "language": "python",
     "metadata": {},
     "outputs": [],
     "prompt_number": 29
    },
    {
     "cell_type": "markdown",
     "metadata": {},
     "source": [
      "Makro `attr_accessor :name` tworzy dwie metody:\n",
      "* `name`\n",
      "* `name=`\n",
      "\n",
      "kt\u00f3re pozwalaj\u0105 odpowiednio na *odczytywanie* oraz *zapisywanie* atrybutu `name`. \n",
      "Makro `attr_reader` tworzy tylko pierwsz\u0105 metod\u0119, a `attr_writer` tylko drug\u0105 metod\u0119. Mo\u017cna je wykorzysta\u0107, je\u015bli chcemy aby\n",
      "u\u017cytkownik obiekt\u00f3w danej klasy nie mia\u0142 nad nimi pe\u0142nej kontroli (w szczeg\u00f3lno\u015bci dotyczy to pierwszego makra, kt\u00f3re \n",
      "uniemo\u017cliwia bezpo\u015bredni\u0105 zmien\u0119 warto\u015bci atrybut\u00f3w). "
     ]
    },
    {
     "cell_type": "heading",
     "level": 3,
     "metadata": {},
     "source": [
      "Metody"
     ]
    },
    {
     "cell_type": "markdown",
     "metadata": {},
     "source": [
      "Metody to funkcje definiowane w obr\u0119bie klasy. Aby funkcja sta\u0142a si\u0119 metod\u0105, musi by\u0107 zdefniowana pomi\u0119dzy s\u0142owem `class`, \n",
      "a ko\u0144cowym s\u0142owem `end`:\n",
      "\n",
      "```ruby\n",
      "class Company\n",
      "  def metoda1\n",
      "  end\n",
      "  \n",
      "  def metoda2\n",
      "  end\n",
      "  \n",
      "  def metoda3\n",
      "  end\n",
      "end\n",
      "\n",
      "def zwykla_funkcja\n",
      "end\n",
      "```\n",
      "\n",
      "Wcze\u015bniej widzieli\u015bmy ju\u017c definicjie funkcji `initialize`, `nazwa_firmy` oraz `rebranding`, kt\u00f3re by\u0142y metodami klasy `Company`.\n",
      "Funkcje maj\u0105 dost\u0119p do atrybut\u00f3w obiekt\u00f3w. Dzi\u0119ki temu pozwalaj\u0105 na odczytywanie oraz modyfikacj\u0119 *stanu* obiektu, czego przyk\u0142ad\n",
      "widzieli\u015bmy w odniesieniu do funkcji `rebranding`.\n",
      "\n",
      "Bardzo wa\u017cn\u0105 cech\u0105 metod jest to, \u017ce ka\u017cda klasa definiuje sw\u00f3j zestaw metod - dzi\u0119ki temu mo\u017cliwe jest zdefiniowanie w\n",
      "dw\u00f3ch klasach metod o tej samej nazwie, kt\u00f3rych zachowanie b\u0119dzie jedank inne:\n",
      "\n",
      "```ruby\n",
      "class Animal\n",
      "  def kim_jestes?\n",
      "    puts \"Jestem zwierz\u0105tkiem\"\n",
      "  end\n",
      "end\n",
      "\n",
      "class Plant\n",
      "  def kim_jestes?\n",
      "    puts \"Jestem ro\u015blink\u0105\"\n",
      "  end\n",
      "end\n",
      "\n",
      "istoty_zywe = []\n",
      "istoty_zywe << Animal.new\n",
      "istoty_zywe << Animal.new\n",
      "istoty_zywe << Plant.new\n",
      "\n",
      "istoty_zywe.each do |istota|\n",
      "  istota.kim_jestes?\n",
      "end\n",
      "```"
     ]
    },
    {
     "cell_type": "code",
     "collapsed": false,
     "input": [],
     "language": "python",
     "metadata": {},
     "outputs": [],
     "prompt_number": 31
    },
    {
     "cell_type": "markdown",
     "metadata": {},
     "source": [
      "Korzystaj\u0105c z tej w\u0142asno\u015bci mo\u017cemy rozwi\u0105za\u0107 pierwsze z problem\u00f3w, kt\u00f3re pojawi\u0142y si\u0119 w pierwszej cz\u0119\u015bci tego laboratorium."
     ]
    },
    {
     "cell_type": "heading",
     "level": 3,
     "metadata": {},
     "source": [
      "Zadanie 1"
     ]
    },
    {
     "cell_type": "markdown",
     "metadata": {},
     "source": [
      "Zdefniuj klasy `Person` oraz `Company` oraz metody `wyswietl_wizytowke`, tak by mo\u017cliwe by\u0142o wy\u015bwietlanie wizyt\u00f3wek os\u00f3b oraz firm\n",
      "za pomoc\u0105 tego samego wywo\u0142ania: `wyswietl_wizytowke`. W efekcie powinno by\u0107 mo\u017cliwe uruchomienie nast\u0119puj\u0105cego kodu:\n",
      "\n",
      "```ruby\n",
      "dane = [\n",
      "  Company.new(\"Garnki Inc.\", \"Blaszana 10\", \"Emaliowo\"),\n",
      "  Person.new(\"Andrzej\", \"Kowalski\", \"andrzej@kowalski.com\"),\n",
      "  Person.new(\"Anna\",\"Malinowska\",\"anna@malinowska.com\")\n",
      "]\n",
      "dane.each{|d| d.wyswietl_wizytowke }\n",
      "```"
     ]
    },
    {
     "cell_type": "code",
     "collapsed": false,
     "input": [],
     "language": "python",
     "metadata": {},
     "outputs": [],
     "prompt_number": 35
    },
    {
     "cell_type": "heading",
     "level": 3,
     "metadata": {},
     "source": [
      "Dziedziczenie"
     ]
    },
    {
     "cell_type": "markdown",
     "metadata": {},
     "source": [
      "Implementacja klas `Company` i `Person` pozwoli\u0142a upora\u0107 si\u0119\u00a0z pierwszym problemem, tzn. wykorzystaniem identycznej nazwy \n",
      "metody dla r\u00f3\u017cnych typ\u00f3w danych. T\u0119 w\u0142asno\u015b\u0107 j\u0119zyk\u00f3w obiektowych nazywamy **polimorfizmem**.\n",
      "\n",
      "Pozosta\u0142 jednak inny problem - metoda `wyswielt_wizytowke` w obu klasach wygl\u0105da bardzo podobnie. Klasy dostarczaj\u0119 jeszcze\n",
      "jeden wa\u017cny mechanizm, kt\u00f3ry pozwala unika\u0107 pisania powtarzaj\u0105cego si\u0119 kodu. Nazywamy go **dziedziczeniem**.\n",
      "\n",
      "Dziedziczenie jest relacj\u0105 wyst\u0119puj\u0105c\u0105 pomi\u0119dzy klasami i oznaczane jest za pomoc\u0105 znaku `<`, np.\n",
      "\n",
      "```ruby\n",
      "class Animal\n",
      "end\n",
      "\n",
      "class Fish < Animal\n",
      "end\n",
      "\n",
      "class Bird < Animal\n",
      "end\n",
      "```\n",
      "\n",
      "Kod ten oznacza, \u017ce klasy `Fish` oraz `Bird` dziedzicz\u0105 z klasy `Animal`. Powoduje to, \u017ce wszystkie metody zdefiniowane\n",
      "w klasie `Animal` s\u0105 r\u00f3wnie\u017c dost\u0119pne w tych klasach:\n",
      "\n",
      "```ruby\n",
      "fish = Fish.new\n",
      "fish.kim_jestes?\n",
      "bird = Bird.new\n",
      "bird.kim_jestes?\n",
      "```"
     ]
    },
    {
     "cell_type": "code",
     "collapsed": false,
     "input": [],
     "language": "python",
     "metadata": {},
     "outputs": [],
     "prompt_number": 39
    },
    {
     "cell_type": "markdown",
     "metadata": {},
     "source": [
      "Klasy dziedzicz\u0105ce mog\u0105 dodawa\u0107 metody, rozszerzaj\u0105c zachowanie swoich obiekt\u00f3w:\n",
      "\n",
      "```ruby\n",
      "class Fish < Animal\n",
      "  def jak_sie_poruszasz?\n",
      "    puts \"p\u0142ywam\"\n",
      "  end\n",
      "end\n",
      "\n",
      "class Bird < Animal\n",
      "  def jak_sie_poruszasz?\n",
      "    puts \"latam\"\n",
      "  end\n",
      "end\n",
      "\n",
      "fish = Fish.new\n",
      "fish.jak_sie_poruszasz?\n",
      "bird = Bird.new\n",
      "bird.jak_sie_poruszasz?\n",
      "```"
     ]
    },
    {
     "cell_type": "code",
     "collapsed": false,
     "input": [],
     "language": "python",
     "metadata": {},
     "outputs": [],
     "prompt_number": 41
    },
    {
     "cell_type": "markdown",
     "metadata": {},
     "source": [
      "Mog\u0105 te\u017c modyfikowa\u0107 ju\u017c istniej\u0105ce metody, co zmienia zachowanie ich obiekt\u00f3w, w stosunku do definicji kt\u00f3re pojawiaj\u0105 si\u0119 \n",
      "w klasie nadrz\u0119dnej:\n",
      "```ruby\n",
      "class Fish < Animal\n",
      "  def kim_jestes?\n",
      "    puts \"Jestem rybk\u0105\"\n",
      "  end\n",
      "end\n",
      "\n",
      "fish = Fish.new\n",
      "fish.kim_jestes?\n",
      "bird = Bird.new\n",
      "bird.kim_jestes?\n",
      "```"
     ]
    },
    {
     "cell_type": "code",
     "collapsed": false,
     "input": [],
     "language": "python",
     "metadata": {},
     "outputs": [],
     "prompt_number": 43
    },
    {
     "cell_type": "markdown",
     "metadata": {},
     "source": [
      "Czasami jednak chcemy aby metoda zdefiniowana w klasie nadrz\u0119dnej zosta\u0142a *rozszerzona* w klasie dziedzicz\u0105cej. \n",
      "Wykorzystujemy do tego s\u0142owo kluczowe `super`, kt\u00f3re wywo\u0142uje t\u0119 sam\u0105 metod\u0119 zdefiniowan\u0105 w klasie nadrz\u0119dnej:\n",
      "```ruby\n",
      "class Bird < Animal\n",
      "  def kim_jestes?\n",
      "    super\n",
      "    puts \"Jestem r\u00f3wnie\u017c ptaszkiem\"\n",
      "  end\n",
      "end\n",
      "\n",
      "fish = Fish.new\n",
      "fish.kim_jestes?\n",
      "bird = Bird.new\n",
      "bird.kim_jestes?\n",
      "```"
     ]
    },
    {
     "cell_type": "code",
     "collapsed": false,
     "input": [],
     "language": "python",
     "metadata": {},
     "outputs": [],
     "prompt_number": 45
    },
    {
     "cell_type": "heading",
     "level": 3,
     "metadata": {},
     "source": [
      "Zadanie 2"
     ]
    },
    {
     "cell_type": "markdown",
     "metadata": {},
     "source": [
      "Zdefniuj klas\u0105 `Podmiot`, kt\u00f3ra definuje metod\u0119 `wyswietl_wizytowke`. Metoda ta powinna wykorzystywa\u0107 metody \n",
      "`pierwsza_linia` oraz `druga_linia` do wy\u015bwietlania zawarto\u015bci wizyt\u00f3wki. W przypadku podmiotu obie metody powinny zwraca\u0107 \n",
      "pusty \u0142a\u0144cuch znak\u00f3w. Nast\u0119pnie zdefiniuj klasy `Osoba` i `Firma`, kt\u00f3re dziedzicz\u0105 z klasy `Podmiot`. \n",
      "Ich konstruktory powinny wygl\u0105da\u0107 analogicznie jak w zadaniu 1. Klasy te powinny modyfikowa\u0107 metody `pierwsza_linia` oraz \n",
      "`druga_linia` tak aby wy\u015bwietlana by\u0142a tre\u015b\u0107 odpowiednia dla osoby (imi\u0119, nazwisko, email) oraz firmy (nazwa firmy i jej adres).\n",
      "W wyniku wywo\u0142ania metody `wyswietl_wizytowke` powinna pojawi\u0107 si\u0119 wizyt\u00f3wka analogiczna jak w pierszej cz\u0119\u015bci laboratorium."
     ]
    },
    {
     "cell_type": "code",
     "collapsed": false,
     "input": [],
     "language": "python",
     "metadata": {},
     "outputs": []
    }
   ],
   "metadata": {}
  }
 ]
}