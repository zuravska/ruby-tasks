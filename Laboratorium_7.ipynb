{
 "metadata": {
  "language": "ruby",
  "name": "",
  "signature": "sha256:02d646ffa5c78e16eb1e241c86b5951f3b2c573fe3b8f8eacb2ed367a7c7deb2"
 },
 "nbformat": 3,
 "nbformat_minor": 0,
 "worksheets": [
  {
   "cells": [
    {
     "cell_type": "heading",
     "level": 1,
     "metadata": {},
     "source": [
      "ActiveRecord"
     ]
    },
    {
     "cell_type": "markdown",
     "metadata": {},
     "source": [
      "Zanim przyst\u0105pimy do pracy, musimy skonfigurowa\u0107 baz\u0119 danych. Poniewa\u017c pracujemy bez u\u017cycia Rails\u00f3w, konieczne jest\n",
      "r\u0119czne zestawienie po\u0142\u0105czenia oraz stworzenie odpowiednich tabel w bazie. Zadania te realizowane s\u0105 przez\n",
      "skrypt `db_setup.rb`. Aby go uruchomi\u0107 wpisujemy\n",
      "```ruby\n",
      "$:.unshift \".\"\n",
      "require 'db_setup'\n",
      "```"
     ]
    },
    {
     "cell_type": "code",
     "collapsed": false,
     "input": [
      "$:.unshift \".\"\n",
      "require 'db_setup'"
     ],
     "language": "python",
     "metadata": {},
     "outputs": [
      {
       "output_type": "stream",
       "stream": "stdout",
       "text": [
        "==  AddIndicesMigration: migrating ============================================\n"
       ]
      },
      {
       "output_type": "stream",
       "stream": "stdout",
       "text": [
        "==  AddIndicesMigration: migrated (0.0000s) ===================================\n"
       ]
      },
      {
       "output_type": "stream",
       "stream": "stdout",
       "text": [
        "\n"
       ]
      },
      {
       "metadata": {},
       "output_type": "pyout",
       "prompt_number": 2,
       "text": [
        "true"
       ]
      }
     ],
     "prompt_number": 2
    },
    {
     "cell_type": "markdown",
     "metadata": {},
     "source": [
      "W dalszych zadaniach b\u0119dzie wykonywa\u0107 polecenia korzystaj\u0105c z nast\u0119puj\u0105cych klas, zmapowanych na odpowiadaj\u0105ce im \n",
      "table w bazie danych:\n",
      "```ruby\n",
      "class Author < ActiveRecord::Base\n",
      "  # name      (string)\n",
      "  # surname   (string)\n",
      "  # born      (datetime) \n",
      "  # died      (datetime)\n",
      "  # image_url (string)\n",
      "  \n",
      "  has_many :books\n",
      "end\n",
      "\n",
      "class Book < ActiveRecord::Base\n",
      "  # title     (string)\n",
      "  # language  (string)\n",
      "  # author    (Author)\n",
      "  # published (integer)\n",
      "\n",
      "  belongs_to :author\n",
      "  has_and_belongs_to_many :genres\n",
      "end\n",
      "\n",
      "class Genre < ActiveRecord::Base\n",
      "  # name  (string)\n",
      "  \n",
      "  has_and_belongs_to_many :books\n",
      "end\n",
      "```"
     ]
    },
    {
     "cell_type": "heading",
     "level": 2,
     "metadata": {},
     "source": [
      "CRUD"
     ]
    },
    {
     "cell_type": "markdown",
     "metadata": {},
     "source": [
      "Cztery podstawowe operacje, kt\u00f3re wykonujemy na danych to\n",
      "* tworzenie - **C**reate\n",
      "* odczytywanie - **R**ead\n",
      "* modyfikowanie - **U**pdate\n",
      "* usuwanie - **D**elete\n",
      "\n",
      "W skr\u00f3cie oznaczane s\u0105 one za pomoc\u0105 akronimu CRUD."
     ]
    },
    {
     "cell_type": "heading",
     "level": 3,
     "metadata": {},
     "source": [
      "Create"
     ]
    },
    {
     "cell_type": "markdown",
     "metadata": {},
     "source": [
      "W ActiveRecord (w skr\u00f3cie AR) korzystamy z obiektowego interfejsu. \n",
      "Tworzenie danych wygl\u0105da nast\u0119puj\u0105co:\n",
      "```ruby\n",
      "author = Author.new(name: \"Adam\", surname: \"Mickiewicz\")\n",
      "author.save\n",
      "```"
     ]
    },
    {
     "cell_type": "code",
     "collapsed": false,
     "input": [
      "author = Author.new(name: \"Adam\", surname: \"Mickiewicz\")\n",
      "author.save\n",
      "Author.find(1)\n"
     ],
     "language": "python",
     "metadata": {},
     "outputs": [
      {
       "metadata": {},
       "output_type": "pyout",
       "prompt_number": 3,
       "text": [
        "#<Author id: 1, name: \"Wojciech\", surname: \"Mickiewiczowski\", born: nil, died: nil, image_url: nil>"
       ]
      }
     ],
     "prompt_number": 3
    },
    {
     "cell_type": "markdown",
     "metadata": {},
     "source": [
      "Innymi s\u0142owy tworzymy nowy obiekt Rubiego i wywo\u0142ujemy na nim metod\u0119 `save`. To \u017ce faktycznie zosta\u0142 on dodany do bazy danych \n",
      "mo\u017cemy zweryfikowa\u0107 wyszukuj\u0105c pierwszy obiekt w bazie:\n",
      "```ruby\n",
      "author = Author.first\n",
      "puts author.name\n",
      "puts author.surname\n",
      "```"
     ]
    },
    {
     "cell_type": "code",
     "collapsed": false,
     "input": [
      "author = Author.first\n",
      "puts author.name\n",
      "puts author.surname"
     ],
     "language": "python",
     "metadata": {},
     "outputs": [
      {
       "output_type": "stream",
       "stream": "stdout",
       "text": [
        "Wojciech\n"
       ]
      },
      {
       "output_type": "stream",
       "stream": "stdout",
       "text": [
        "Mickiewiczowski\n"
       ]
      }
     ],
     "prompt_number": 4
    },
    {
     "cell_type": "heading",
     "level": 3,
     "metadata": {},
     "source": [
      "Zadanie 1"
     ]
    },
    {
     "cell_type": "markdown",
     "metadata": {},
     "source": [
      "Dodaj do bazy 3 autor\u00f3w:\n",
      "* Juliusz S\u0142owacki\n",
      "* Henryk Sienkiewicz\n",
      "* Eliza Orzeszkowa"
     ]
    },
    {
     "cell_type": "code",
     "collapsed": false,
     "input": [
      "author = Author.new(name: \"Juliusz\", surname: \"S\u0142owacki\")\n",
      "author.save\n",
      "author = Author.new(name: \"Henryk\", surname: \"Sienkiewicz\")\n",
      "author.save\n",
      "author = Author.new(name: \"Eliza\", surname: \"Orzeszkowa\")\n",
      "author.save\n",
      "Author.all\n"
     ],
     "language": "python",
     "metadata": {},
     "outputs": [
      {
       "metadata": {},
       "output_type": "pyout",
       "prompt_number": 60,
       "text": [
        "#<ActiveRecord::Relation [#<Author id: 2, name: \"Adam\", surname: \"Mickiewicz\", born: \"1798-12-24\", died: \"1855-11-26\", image_url: nil>, #<Author id: 3, name: \"Juliusz\", surname: \"S\u0142owacki\", born: \"1809-09-04\", died: \"1849-04-03\", image_url: nil>, #<Author id: 4, name: \"Henryk\", surname: \"Sienkiewicz\", born: \"1846-05-05\", died: \"1916-11-15\", image_url: nil>, #<Author id: 5, name: \"Eliza\", surname: \"Orzeszkowa\", born: \"1841-06-06\", died: \"1910-05-18\", image_url: nil>, #<Author id: 22, name: \"Juliusz\", surname: \"S\u0142owacki\", born: nil, died: nil, image_url: nil>, #<Author id: 23, name: \"Henryk\", surname: \"Sienkiewicz\", born: nil, died: nil, image_url: nil>, #<Author id: 24, name: \"Eliza\", surname: \"Orzeszkowa\", born: nil, died: nil, image_url: nil>]>"
       ]
      }
     ],
     "prompt_number": 60
    },
    {
     "cell_type": "heading",
     "level": 3,
     "metadata": {},
     "source": [
      "Read"
     ]
    },
    {
     "cell_type": "markdown",
     "metadata": {},
     "source": [
      "Odczytywanie danych z bazy mo\u017cna realizowa\u0107 na wiele sposob\u00f3w. Najprostszy spos\u00f3b, to wyszukiwanie ich z wykorzystaniem \n",
      "klucza g\u0142\u00f3wego - `id`. S\u0142u\u017cy do tego metoda `find`:\n",
      "```ruby\n",
      "author = Author.find(1)\n",
      "puts author.surname\n",
      "author = Author.find(2)\n",
      "puts author.surname\n",
      "```"
     ]
    },
    {
     "cell_type": "code",
     "collapsed": false,
     "input": [
      "author = Author.find(1)\n",
      "puts author.surname"
     ],
     "language": "python",
     "metadata": {},
     "outputs": [
      {
       "output_type": "stream",
       "stream": "stdout",
       "text": [
        "Mickiewiczowski\n"
       ]
      }
     ],
     "prompt_number": 6
    },
    {
     "cell_type": "markdown",
     "metadata": {},
     "source": [
      "Wykorzystanie tej metody mo\u017ce jedak skutkowa\u0107 wyj\u0105tkiem, je\u015bli w bazie nie ma wiersza z danym kluczem:\n",
      "```ruby\n",
      "author = Author.find(10)\n",
      "```"
     ]
    },
    {
     "cell_type": "code",
     "collapsed": false,
     "input": [
      "author = Author.find(12)"
     ],
     "language": "python",
     "metadata": {},
     "outputs": [
      {
       "metadata": {},
       "output_type": "pyout",
       "prompt_number": 7,
       "text": [
        "#<Author id: 12, name: \"Juliusz\", surname: \"S\u0142owacki\", born: nil, died: nil, image_url: nil>"
       ]
      }
     ],
     "prompt_number": 7
    },
    {
     "cell_type": "markdown",
     "metadata": {},
     "source": [
      "Mo\u017cemy zabezpieczy\u0107 si\u0119 przed t\u0105 sytuacj\u0105, korzystaj\u0105 z innego wywo\u0142ania `find_by_id`\n",
      "```ruby\n",
      "author = Author.find_by_id(10)\n",
      "p author\n",
      "```"
     ]
    },
    {
     "cell_type": "code",
     "collapsed": false,
     "input": [
      "author = Author.find_by_id(10)\n",
      "p author"
     ],
     "language": "python",
     "metadata": {},
     "outputs": [
      {
       "output_type": "stream",
       "stream": "stdout",
       "text": [
        "#<Author id: 10, name: \"Henryk\", surname: \"Sienkiewicz\", born: nil, died: nil, image_url: nil>"
       ]
      },
      {
       "output_type": "stream",
       "stream": "stdout",
       "text": [
        "\n"
       ]
      },
      {
       "metadata": {},
       "output_type": "pyout",
       "prompt_number": 8,
       "text": [
        "#<Author id: 10, name: \"Henryk\", surname: \"Sienkiewicz\", born: nil, died: nil, image_url: nil>"
       ]
      }
     ],
     "prompt_number": 8
    },
    {
     "cell_type": "heading",
     "level": 3,
     "metadata": {},
     "source": [
      "Zadanie 2"
     ]
    },
    {
     "cell_type": "markdown",
     "metadata": {},
     "source": [
      "Pr\u00f3ba odczytania p\u00f3l takiego obiektu, r\u00f3wnie\u017c sko\u0144czy si\u0119 wyj\u0105tkiem. Co nale\u017cy zrobi\u0107, \u017ceby wypisa\u0107 imi\u0119 i nazwisko autora\n",
      "wy\u0142\u0105cznie wtedy gdy autor istnieje w bazie? Zaimplementuj metod\u0119 `print_author`, kt\u00f3ra radzi sobie z tym problemem."
     ]
    },
    {
     "cell_type": "code",
     "collapsed": false,
     "input": [
      "def print_author(id)\n",
      "  author = Author.find_by_id(id)\n",
      "  if author.nil?\n",
      "    puts \" nie ma takiego autora\"\n",
      "  else \n",
      "    author = Author.find(id)\n",
      "    puts author.name\n",
      "    puts author.surname\n",
      "  end\n",
      "end\n",
      "\n",
      "# te linijki maj\u0105 pozosta\u0107 niezmienione\n",
      "print_author(0)\n",
      "print_author(5)\n"
     ],
     "language": "python",
     "metadata": {},
     "outputs": [
      {
       "output_type": "stream",
       "stream": "stdout",
       "text": [
        " nie ma takiego autora\n"
       ]
      },
      {
       "output_type": "stream",
       "stream": "stdout",
       "text": [
        "Eliza\n"
       ]
      },
      {
       "output_type": "stream",
       "stream": "stdout",
       "text": [
        "Orzeszkowa\n"
       ]
      }
     ],
     "prompt_number": 63
    },
    {
     "cell_type": "heading",
     "level": 3,
     "metadata": {},
     "source": [
      "Update"
     ]
    },
    {
     "cell_type": "markdown",
     "metadata": {},
     "source": [
      "Modyfikowanie danych realizowane mo\u017ce by\u0107 na kilka sposob\u00f3w. W pierwszej kolejno\u015bci mo\u017cemy zmodyfikowa\u0107 atrybut obiektu i \n",
      "nast\u0119pnie zapisa\u0107 go do bazy\n",
      "```ruby\n",
      "author = Author.find(1)\n",
      "puts author.surname\n",
      "author.surname = \"Mickiewiczowski\"\n",
      "author.save\n",
      "\n",
      "other_author = Author.find(1)\n",
      "puts other_author.surname\n",
      "```"
     ]
    },
    {
     "cell_type": "code",
     "collapsed": false,
     "input": [
      "author = Author.find(1)\n",
      "puts author.surname\n",
      "author.surname = \"Mickiewiczowski\"\n",
      "author.save\n",
      "\n",
      "other_author = Author.find(1)\n",
      "puts other_author.surname"
     ],
     "language": "python",
     "metadata": {},
     "outputs": [
      {
       "output_type": "stream",
       "stream": "stdout",
       "text": [
        "Mickiewiczowski\n"
       ]
      },
      {
       "output_type": "stream",
       "stream": "stdout",
       "text": [
        "Mickiewiczowski\n"
       ]
      }
     ],
     "prompt_number": 10
    },
    {
     "cell_type": "markdown",
     "metadata": {},
     "source": [
      "Mo\u017cna r\u00f3wnie\u017c skorzysta\u0107 z metody `update_attributes`, kt\u00f3ra dzia\u0142a podobnie jak konstruktor, ale dane s\u0105 od razu\n",
      "modyfikowane w bazie\n",
      "```ruby\n",
      "author = Author.find(1)\n",
      "author.update_attributes(name: \"Wojciech\")\n",
      "other_author = Author.find(1)\n",
      "puts other_author.name\n",
      "```"
     ]
    },
    {
     "cell_type": "code",
     "collapsed": false,
     "input": [
      "author = Author.find(1)\n",
      "author.update_attributes(name: \"Wojciech\")\n",
      "other_author = Author.find(1)\n",
      "puts other_author.name"
     ],
     "language": "python",
     "metadata": {},
     "outputs": [
      {
       "output_type": "stream",
       "stream": "stdout",
       "text": [
        "Wojciech\n"
       ]
      }
     ],
     "prompt_number": 12
    },
    {
     "cell_type": "heading",
     "level": 3,
     "metadata": {},
     "source": [
      "Zadanie 3"
     ]
    },
    {
     "cell_type": "markdown",
     "metadata": {},
     "source": [
      "Zmodyfikuj wszystkich autor\u00f3w, tak by ich daty urodzenia i \u015bmierci by\u0142y poprawne. Popraw r\u00f3wnie\u017c imi\u0119 i nazwisko Adama Mickiewicza.\n",
      "Aby wprowadzi\u0107 dat\u0119 skorzystaj z metody `Date.parse`."
     ]
    },
    {
     "cell_type": "code",
     "collapsed": false,
     "input": [
      "author = Author.find_by_name(\"Adam\")\n",
      "author.update_attributes(born: Date.parse(\"1798-12-24\"), died: Date.parse(\"1855-11-26\"))\n",
      "\n",
      "author = Author.find_by_name(\"Henryk\")\n",
      "author.update_attributes(born: Date.parse(\"1846-5-5\"), died: Date.parse(\"1916-11-15\"))\n",
      "\n",
      "author = Author.find_by_name(\"Juliusz\")\n",
      "author.update_attributes(born: Date.parse(\"1809-9-4\"), died: Date.parse(\"1849-4-3\"))\n",
      "\n",
      "author = Author.find_by_name(\"Eliza\")\n",
      "author.update_attributes(born: Date.parse(\"1841-6-6\"), died: Date.parse(\"1910-5-18\"))\n",
      "\n",
      "authors = Author.all\n",
      "authors.each do |author|\n",
      "  puts \"#{author.name} #{author.surname} #{author.born} #{author.died}   \"\n",
      "end\n"
     ],
     "language": "python",
     "metadata": {},
     "outputs": [
      {
       "output_type": "stream",
       "stream": "stdout",
       "text": [
        "Adam Mickiewicz 1798-12-24 1855-11-26   \n"
       ]
      },
      {
       "output_type": "stream",
       "stream": "stdout",
       "text": [
        "Juliusz S\u0142owacki 1809-09-04 1849-04-03   \n"
       ]
      },
      {
       "output_type": "stream",
       "stream": "stdout",
       "text": [
        "Henryk Sienkiewicz 1846-05-05 1916-11-15   \n"
       ]
      },
      {
       "output_type": "stream",
       "stream": "stdout",
       "text": [
        "Eliza Orzeszkowa 1841-06-06 1910-05-18   \n"
       ]
      },
      {
       "output_type": "stream",
       "stream": "stdout",
       "text": [
        "Henryk Sienkiewicz     \n"
       ]
      },
      {
       "output_type": "stream",
       "stream": "stdout",
       "text": [
        "Eliza Orzeszkowa     \n"
       ]
      },
      {
       "output_type": "stream",
       "stream": "stdout",
       "text": [
        "Juliusz S\u0142owacki     \n"
       ]
      },
      {
       "output_type": "stream",
       "stream": "stdout",
       "text": [
        "Henryk Sienkiewicz     \n"
       ]
      },
      {
       "output_type": "stream",
       "stream": "stdout",
       "text": [
        "Eliza Orzeszkowa     \n"
       ]
      },
      {
       "output_type": "stream",
       "stream": "stdout",
       "text": [
        "Juliusz S\u0142owacki     \n"
       ]
      },
      {
       "output_type": "stream",
       "stream": "stdout",
       "text": [
        "Henryk Sienkiewicz     \n"
       ]
      },
      {
       "output_type": "stream",
       "stream": "stdout",
       "text": [
        "Eliza Orzeszkowa     \n"
       ]
      },
      {
       "output_type": "stream",
       "stream": "stdout",
       "text": [
        "Adam Mickiewicz     \n"
       ]
      },
      {
       "output_type": "stream",
       "stream": "stdout",
       "text": [
        "Juliusz S\u0142owacki     \n"
       ]
      },
      {
       "output_type": "stream",
       "stream": "stdout",
       "text": [
        "Henryk Sienkiewicz     \n"
       ]
      },
      {
       "output_type": "stream",
       "stream": "stdout",
       "text": [
        "Eliza Orzeszkowa     \n"
       ]
      },
      {
       "metadata": {},
       "output_type": "pyout",
       "prompt_number": 33,
       "text": [
        "[#<Author id: 2, name: \"Adam\", surname: \"Mickiewicz\", born: \"1798-12-24\", died: \"1855-11-26\", image_url: nil>, #<Author id: 3, name: \"Juliusz\", surname: \"S\u0142owacki\", born: \"1809-09-04\", died: \"1849-04-03\", image_url: nil>, #<Author id: 4, name: \"Henryk\", surname: \"Sienkiewicz\", born: \"1846-05-05\", died: \"1916-11-15\", image_url: nil>, #<Author id: 5, name: \"Eliza\", surname: \"Orzeszkowa\", born: \"1841-06-06\", died: \"1910-05-18\", image_url: nil>, #<Author id: 10, name: \"Henryk\", surname: \"Sienkiewicz\", born: nil, died: nil, image_url: nil>, #<Author id: 11, name: \"Eliza\", surname: \"Orzeszkowa\", born: nil, died: nil, image_url: nil>, #<Author id: 12, name: \"Juliusz\", surname: \"S\u0142owacki\", born: nil, died: nil, image_url: nil>, #<Author id: 13, name: \"Henryk\", surname: \"Sienkiewicz\", born: nil, died: nil, image_url: nil>, #<Author id: 14, name: \"Eliza\", surname: \"Orzeszkowa\", born: nil, died: nil, image_url: nil>, #<Author id: 15, name: \"Juliusz\", surname: \"S\u0142owacki\", born: nil, died: nil, image_url: nil>, #<Author id: 16, name: \"Henryk\", surname: \"Sienkiewicz\", born: nil, died: nil, image_url: nil>, #<Author id: 17, name: \"Eliza\", surname: \"Orzeszkowa\", born: nil, died: nil, image_url: nil>, #<Author id: 18, name: \"Adam\", surname: \"Mickiewicz\", born: nil, died: nil, image_url: nil>, #<Author id: 19, name: \"Juliusz\", surname: \"S\u0142owacki\", born: nil, died: nil, image_url: nil>, #<Author id: 20, name: \"Henryk\", surname: \"Sienkiewicz\", born: nil, died: nil, image_url: nil>, #<Author id: 21, name: \"Eliza\", surname: \"Orzeszkowa\", born: nil, died: nil, image_url: nil>]"
       ]
      }
     ],
     "prompt_number": 33
    },
    {
     "cell_type": "heading",
     "level": 3,
     "metadata": {},
     "source": [
      "Delete"
     ]
    },
    {
     "cell_type": "markdown",
     "metadata": {},
     "source": [
      "Usuwanie danych realizowane jest za pomoc\u0105 wywo\u0142ania `destroy`:\n",
      "```ruby\n",
      "author = Author.find(1)\n",
      "author.destroy\n",
      "```"
     ]
    },
    {
     "cell_type": "code",
     "collapsed": false,
     "input": [
      "author = Author.find(1)\n",
      "\n",
      "author.destroy"
     ],
     "language": "python",
     "metadata": {},
     "outputs": [
      {
       "metadata": {},
       "output_type": "pyout",
       "prompt_number": 31,
       "text": [
        "#<Author id: 1, name: \"Wojciech\", surname: \"Mickiewiczowski\", born: \"1780-01-01\", died: \"1780-01-01\", image_url: nil>"
       ]
      }
     ],
     "prompt_number": 31
    },
    {
     "cell_type": "heading",
     "level": 3,
     "metadata": {},
     "source": [
      "Zadanie 4"
     ]
    },
    {
     "cell_type": "markdown",
     "metadata": {},
     "source": [
      "Poniewa\u017c w\u0142a\u015bnie usun\u0105\u0142e\u015b/\u0119\u0142a\u015b Adama Mickiewicza, ponownie utw\u00f3rz odpowiadaj\u0105cy mu rekord."
     ]
    },
    {
     "cell_type": "code",
     "collapsed": false,
     "input": [
      "author = Author.new(name: \"Adam\", surname: \"Mickiewicz\", born: Date.parse(\"1846-5-5\"), died: Date.parse(\"1846-5-5\") )\n",
      "author.save"
     ],
     "language": "python",
     "metadata": {},
     "outputs": []
    },
    {
     "cell_type": "heading",
     "level": 2,
     "metadata": {},
     "source": [
      "J\u0119zyk zapyta\u0144"
     ]
    },
    {
     "cell_type": "heading",
     "level": 2,
     "metadata": {},
     "source": [
      "`find`, `first`, `last`, `all`"
     ]
    },
    {
     "cell_type": "markdown",
     "metadata": {},
     "source": [
      "Metoda `find` pozwala nie tylko pobiera\u0107 pojedynczy obiekt z bazy, ale r\u00f3wnie\u017c kilka obiekt\u00f3w na raz:\n",
      "```ruby\n",
      "authors = Author.find(2,3,4)\n",
      "authors.each do |author|\n",
      "  puts \"#{author.name} #{author.surname}\"\n",
      "end\n",
      "```"
     ]
    },
    {
     "cell_type": "code",
     "collapsed": false,
     "input": [
      "authors = Author.all\n",
      "authors.each do |author|\n",
      "  if author.id>7\n",
      "    author.destroy\n",
      "  end\n",
      "end\n",
      "Author.all\n"
     ],
     "language": "python",
     "metadata": {},
     "outputs": [
      {
       "metadata": {},
       "output_type": "pyout",
       "prompt_number": 59,
       "text": [
        "#<ActiveRecord::Relation [#<Author id: 2, name: \"Adam\", surname: \"Mickiewicz\", born: \"1798-12-24\", died: \"1855-11-26\", image_url: nil>, #<Author id: 3, name: \"Juliusz\", surname: \"S\u0142owacki\", born: \"1809-09-04\", died: \"1849-04-03\", image_url: nil>, #<Author id: 4, name: \"Henryk\", surname: \"Sienkiewicz\", born: \"1846-05-05\", died: \"1916-11-15\", image_url: nil>, #<Author id: 5, name: \"Eliza\", surname: \"Orzeszkowa\", born: \"1841-06-06\", died: \"1910-05-18\", image_url: nil>]>"
       ]
      }
     ],
     "prompt_number": 59
    },
    {
     "cell_type": "markdown",
     "metadata": {},
     "source": [
      "Metody `first` oraz `last` zwracaj\u0105 odpowiednio *pierwszy* i *ostatni* rekord w bazie. W domy\u015blnej konfiguracji kolejno\u015b\u0107\n",
      "ta b\u0119dzie odpowiada\u0142a czasowi ich utworzenia.\n",
      "```ruby\n",
      "puts Author.first.surname\n",
      "puts Author.last.surname\n",
      "```"
     ]
    },
    {
     "cell_type": "code",
     "collapsed": false,
     "input": [
      "puts Author.first.surname\n",
      "puts Author.last.surname"
     ],
     "language": "python",
     "metadata": {},
     "outputs": [
      {
       "output_type": "stream",
       "stream": "stdout",
       "text": [
        "Mickiewiczowski\n"
       ]
      },
      {
       "output_type": "stream",
       "stream": "stdout",
       "text": [
        "Orzeszkowa\n"
       ]
      }
     ],
     "prompt_number": 21
    },
    {
     "cell_type": "markdown",
     "metadata": {},
     "source": [
      "Natomiast metoda `all` zwraca kolekcj\u0119 obejmuj\u0105c\u0105 wszystkie rekordy w bazie danych:\n",
      "```ruby\n",
      "authors = Author.all\n",
      "authors.each do |author|\n",
      "  puts \"#{author.name} #{author.surname}\"\n",
      "end\n",
      "```"
     ]
    },
    {
     "cell_type": "code",
     "collapsed": false,
     "input": [
      "authors = Author.all\n",
      "authors.each do |author|\n",
      "  puts \"#{author.name} #{author.surname}\"\n",
      "end"
     ],
     "language": "python",
     "metadata": {},
     "outputs": [
      {
       "output_type": "stream",
       "stream": "stdout",
       "text": [
        "Adam Mickiewicz\n"
       ]
      },
      {
       "output_type": "stream",
       "stream": "stdout",
       "text": [
        "Juliusz S\u0142owacki\n"
       ]
      },
      {
       "output_type": "stream",
       "stream": "stdout",
       "text": [
        "Henryk Sienkiewicz\n"
       ]
      },
      {
       "output_type": "stream",
       "stream": "stdout",
       "text": [
        "Eliza Orzeszkowa\n"
       ]
      },
      {
       "output_type": "stream",
       "stream": "stdout",
       "text": [
        "Henryk Sienkiewicz\n"
       ]
      },
      {
       "output_type": "stream",
       "stream": "stdout",
       "text": [
        "Eliza Orzeszkowa\n"
       ]
      },
      {
       "output_type": "stream",
       "stream": "stdout",
       "text": [
        "Juliusz S\u0142owacki\n"
       ]
      },
      {
       "output_type": "stream",
       "stream": "stdout",
       "text": [
        "Henryk Sienkiewicz\n"
       ]
      },
      {
       "output_type": "stream",
       "stream": "stdout",
       "text": [
        "Eliza Orzeszkowa\n"
       ]
      },
      {
       "output_type": "stream",
       "stream": "stdout",
       "text": [
        "Juliusz S\u0142owacki\n"
       ]
      },
      {
       "output_type": "stream",
       "stream": "stdout",
       "text": [
        "Henryk Sienkiewicz\n"
       ]
      },
      {
       "output_type": "stream",
       "stream": "stdout",
       "text": [
        "Eliza Orzeszkowa\n"
       ]
      },
      {
       "output_type": "stream",
       "stream": "stdout",
       "text": [
        "Adam Mickiewicz\n"
       ]
      },
      {
       "output_type": "stream",
       "stream": "stdout",
       "text": [
        "Juliusz S\u0142owacki\n"
       ]
      },
      {
       "output_type": "stream",
       "stream": "stdout",
       "text": [
        "Henryk Sienkiewicz\n"
       ]
      },
      {
       "output_type": "stream",
       "stream": "stdout",
       "text": [
        "Eliza Orzeszkowa\n"
       ]
      },
      {
       "metadata": {},
       "output_type": "pyout",
       "prompt_number": 38,
       "text": [
        "[#<Author id: 2, name: \"Adam\", surname: \"Mickiewicz\", born: \"1798-12-24\", died: \"1855-11-26\", image_url: nil>, #<Author id: 3, name: \"Juliusz\", surname: \"S\u0142owacki\", born: \"1809-09-04\", died: \"1849-04-03\", image_url: nil>, #<Author id: 4, name: \"Henryk\", surname: \"Sienkiewicz\", born: \"1846-05-05\", died: \"1916-11-15\", image_url: nil>, #<Author id: 5, name: \"Eliza\", surname: \"Orzeszkowa\", born: \"1841-06-06\", died: \"1910-05-18\", image_url: nil>, #<Author id: 10, name: \"Henryk\", surname: \"Sienkiewicz\", born: nil, died: nil, image_url: nil>, #<Author id: 11, name: \"Eliza\", surname: \"Orzeszkowa\", born: nil, died: nil, image_url: nil>, #<Author id: 12, name: \"Juliusz\", surname: \"S\u0142owacki\", born: nil, died: nil, image_url: nil>, #<Author id: 13, name: \"Henryk\", surname: \"Sienkiewicz\", born: nil, died: nil, image_url: nil>, #<Author id: 14, name: \"Eliza\", surname: \"Orzeszkowa\", born: nil, died: nil, image_url: nil>, #<Author id: 15, name: \"Juliusz\", surname: \"S\u0142owacki\", born: nil, died: nil, image_url: nil>, #<Author id: 16, name: \"Henryk\", surname: \"Sienkiewicz\", born: nil, died: nil, image_url: nil>, #<Author id: 17, name: \"Eliza\", surname: \"Orzeszkowa\", born: nil, died: nil, image_url: nil>, #<Author id: 18, name: \"Adam\", surname: \"Mickiewicz\", born: nil, died: nil, image_url: nil>, #<Author id: 19, name: \"Juliusz\", surname: \"S\u0142owacki\", born: nil, died: nil, image_url: nil>, #<Author id: 20, name: \"Henryk\", surname: \"Sienkiewicz\", born: nil, died: nil, image_url: nil>, #<Author id: 21, name: \"Eliza\", surname: \"Orzeszkowa\", born: nil, died: nil, image_url: nil>]"
       ]
      }
     ],
     "prompt_number": 38
    },
    {
     "cell_type": "heading",
     "level": 3,
     "metadata": {},
     "source": [
      "Zadanie 5"
     ]
    },
    {
     "cell_type": "markdown",
     "metadata": {},
     "source": [
      "Wypisz wszystkich autor\u00f3w znajduj\u0105cych si\u0119\u00a0w bazie wraz z ich datami urodzenia i \u015bmierci. Postaraj si\u0119 sformatowa\u0107 daty,\n",
      "tak by obejmowa\u0142y tylko dzie\u0144, miesi\u0105c i rok - w tej kolejno\u015bci. S\u0142u\u017cy do tego metoda `strftime`."
     ]
    },
    {
     "cell_type": "code",
     "collapsed": false,
     "input": [
      "authors = Author.all \n",
      "authors.each do |author|\n",
      "  puts \"#{author.name} #{author.surname} #{author.born.strftime(\"%d-%m-%Y\")} #{author.died.strftime(\"%d-%m-%Y\")} \" \n",
      "end"
     ],
     "language": "python",
     "metadata": {},
     "outputs": [
      {
       "output_type": "stream",
       "stream": "stdout",
       "text": [
        "Adam Mickiewicz 24-12-1798 26-11-1855 \n"
       ]
      },
      {
       "output_type": "stream",
       "stream": "stdout",
       "text": [
        "Juliusz S\u0142owacki 04-09-1809 03-04-1849 \n"
       ]
      },
      {
       "output_type": "stream",
       "stream": "stdout",
       "text": [
        "Henryk Sienkiewicz 05-05-1846 15-11-1916 \n"
       ]
      },
      {
       "output_type": "stream",
       "stream": "stdout",
       "text": [
        "Eliza Orzeszkowa 06-06-1841 18-05-1910 \n"
       ]
      },
      {
       "ename": "NoMethodError",
       "evalue": "undefined method `strftime' for nil:NilClass",
       "output_type": "pyerr",
       "traceback": [
        "\u001b[31mNoMethodError\u001b[0m: undefined method `strftime' for nil:NilClass",
        "\u001b[37m<main>:2:in `block in <main>'\u001b[0m",
        "\u001b[37m/usr/local/rvm/gems/ruby-2.0.0-p0/gems/activerecord-4.1.8/lib/active_record/relation/delegation.rb:46:in `each'\u001b[0m",
        "\u001b[37m/usr/local/rvm/gems/ruby-2.0.0-p0/gems/activerecord-4.1.8/lib/active_record/relation/delegation.rb:46:in `each'\u001b[0m",
        "\u001b[37m<main>:1:in `<main>'\u001b[0m",
        "\u001b[37m/usr/local/rvm/gems/ruby-2.0.0-p0/gems/iruby-0.1.13/lib/iruby/backend.rb:8:in `eval'\u001b[0m",
        "\u001b[37m/usr/local/rvm/gems/ruby-2.0.0-p0/gems/iruby-0.1.13/lib/iruby/backend.rb:8:in `eval'\u001b[0m",
        "\u001b[37m/usr/local/rvm/gems/ruby-2.0.0-p0/gems/iruby-0.1.13/lib/iruby/kernel.rb:110:in `execute_request'\u001b[0m",
        "\u001b[37m/usr/local/rvm/gems/ruby-2.0.0-p0/gems/iruby-0.1.13/lib/iruby/kernel.rb:62:in `run'\u001b[0m",
        "\u001b[37m/usr/local/rvm/gems/ruby-2.0.0-p0/gems/iruby-0.1.13/lib/iruby/command.rb:30:in `run_kernel'\u001b[0m",
        "\u001b[37m/usr/local/rvm/gems/ruby-2.0.0-p0/gems/iruby-0.1.13/lib/iruby/command.rb:16:in `run'\u001b[0m",
        "\u001b[37m/usr/local/rvm/gems/ruby-2.0.0-p0/gems/iruby-0.1.13/bin/iruby:6:in `<top (required)>'\u001b[0m",
        "\u001b[37m/usr/local/rvm/gems/ruby-2.0.0-p0/bin/iruby:23:in `load'\u001b[0m",
        "\u001b[37m/usr/local/rvm/gems/ruby-2.0.0-p0/bin/iruby:23:in `<main>'\u001b[0m",
        "\u001b[37m/usr/local/rvm/gems/ruby-2.0.0-p0/bin/ruby_noexec_wrapper:14:in `eval'\u001b[0m",
        "\u001b[37m/usr/local/rvm/gems/ruby-2.0.0-p0/bin/ruby_noexec_wrapper:14:in `<main>'\u001b[0m"
       ]
      }
     ],
     "prompt_number": 40
    },
    {
     "cell_type": "heading",
     "level": 3,
     "metadata": {},
     "source": [
      "`find_by`"
     ]
    },
    {
     "cell_type": "markdown",
     "metadata": {},
     "source": [
      "AR definiuje r\u00f3wnie\u017c metody pozwalaj\u0105ce na wyszukiwanie rekord\u00f3w na podstawie warto\u015bci atrybut\u00f3w. Najprostsza z nich to `find_by`. Zwraca rekord, kt\u00f3re posiada warto\u015b\u0107 okre\u015blon\u0105 w zapytaniu:\n",
      "```ruby\n",
      "author = Author.find_by_name(\"Adam\")\n",
      "puts author.surname\n",
      "```"
     ]
    },
    {
     "cell_type": "code",
     "collapsed": false,
     "input": [
      "author = Author.find_by_name(\"Adam\")\n",
      "puts author.surname"
     ],
     "language": "python",
     "metadata": {},
     "outputs": [
      {
       "output_type": "stream",
       "stream": "stdout",
       "text": [
        "Mickiewicz\n"
       ]
      }
     ],
     "prompt_number": 41
    },
    {
     "cell_type": "heading",
     "level": 3,
     "metadata": {},
     "source": [
      "`where`"
     ]
    },
    {
     "cell_type": "markdown",
     "metadata": {},
     "source": [
      "Metoda `where` odpowiada klauzuli `where` z j\u0119zyka SQL. Podstawowa r\u00f3\u017cnica polega na tym, \u017ce warto\u015bci poszczeg\u00f3lnych p\u00f3l okre\u015blamy w postaci par klucz-warto\u015b\u0107. Je\u015bli chcemy uzyska\u0107 pojedynczy wynik dodajemy metod\u0119 `first` lub `last`:\n",
      "```ruby\n",
      "author = Author.where(name: \"Eliza\").first\n",
      "puts author.surname\n",
      "```"
     ]
    },
    {
     "cell_type": "code",
     "collapsed": false,
     "input": [
      "author = Author.where(name: \"Eliza\").first\n",
      "puts author.surname"
     ],
     "language": "python",
     "metadata": {},
     "outputs": [
      {
       "output_type": "stream",
       "stream": "stdout",
       "text": [
        "Orzeszkowa\n"
       ]
      }
     ],
     "prompt_number": 42
    },
    {
     "cell_type": "markdown",
     "metadata": {},
     "source": [
      "Metoda ta ma jednak znacznie wi\u0119ksze mo\u017cliwo\u015bci - mo\u017cna np. podawa\u0107 zakresy warto\u015bci, jako zakresy Rubiego:\n",
      "```ruby\n",
      "authors = Author.where(born: (Date.parse(\"1780-1-1\")..Date.parse(\"1800-12-31\"))\n",
      "authors.each do |author|\n",
      "  puts \"#{author.name} #{author.surname} #{author.born.strftime(\"%d-%m-%Y\")}\"\n",
      "end\n",
      "```"
     ]
    },
    {
     "cell_type": "code",
     "collapsed": false,
     "input": [
      "authors = Author.where(born: (Date.parse(\"1780-1-1\")..Date.parse(\"1800-12-31\"))\n",
      "authors.each do |author|\n",
      "  puts \"#{author.name} #{author.surname} #{author.born.strftime(\"%d-%m-%Y\")}\"\n",
      "end"
     ],
     "language": "python",
     "metadata": {},
     "outputs": [
      {
       "ename": "SyntaxError",
       "evalue": "<main>:1: syntax error, unexpected tIDENTIFIER, expecting ')'\nauthors.each do |author|\n       ^",
       "output_type": "pyerr",
       "traceback": [
        "\u001b[31mSyntaxError\u001b[0m: <main>:1: syntax error, unexpected tIDENTIFIER, expecting ')'\nauthors.each do |author|\n       ^",
        "\u001b[37m/usr/local/rvm/gems/ruby-2.0.0-p0/gems/iruby-0.1.13/lib/iruby/backend.rb:8:in `eval'\u001b[0m",
        "\u001b[37m/usr/local/rvm/gems/ruby-2.0.0-p0/gems/iruby-0.1.13/lib/iruby/backend.rb:8:in `eval'\u001b[0m",
        "\u001b[37m/usr/local/rvm/gems/ruby-2.0.0-p0/gems/iruby-0.1.13/lib/iruby/kernel.rb:110:in `execute_request'\u001b[0m",
        "\u001b[37m/usr/local/rvm/gems/ruby-2.0.0-p0/gems/iruby-0.1.13/lib/iruby/kernel.rb:62:in `run'\u001b[0m",
        "\u001b[37m/usr/local/rvm/gems/ruby-2.0.0-p0/gems/iruby-0.1.13/lib/iruby/command.rb:30:in `run_kernel'\u001b[0m",
        "\u001b[37m/usr/local/rvm/gems/ruby-2.0.0-p0/gems/iruby-0.1.13/lib/iruby/command.rb:16:in `run'\u001b[0m",
        "\u001b[37m/usr/local/rvm/gems/ruby-2.0.0-p0/gems/iruby-0.1.13/bin/iruby:6:in `<top (required)>'\u001b[0m",
        "\u001b[37m/usr/local/rvm/gems/ruby-2.0.0-p0/bin/iruby:23:in `load'\u001b[0m",
        "\u001b[37m/usr/local/rvm/gems/ruby-2.0.0-p0/bin/iruby:23:in `<main>'\u001b[0m",
        "\u001b[37m/usr/local/rvm/gems/ruby-2.0.0-p0/bin/ruby_noexec_wrapper:14:in `eval'\u001b[0m",
        "\u001b[37m/usr/local/rvm/gems/ruby-2.0.0-p0/bin/ruby_noexec_wrapper:14:in `<main>'\u001b[0m"
       ]
      }
     ],
     "prompt_number": 43
    },
    {
     "cell_type": "markdown",
     "metadata": {},
     "source": [
      "Metod\u0119 `where` mo\u017cna wywo\u0142ywa\u0107 wielokrotnie. Wtedy wyniki s\u0105 \u0142\u0105czone za pomoc\u0105 operatora koniunkcji. Je\u015bli chcemy\n",
      "u\u017cy\u0107 innego operatora (np. `OR` lub `LIKE`), konieczne jest u\u017cycie nieco innej sk\u0142adni:\n",
      "```ruby\n",
      "authors = Author.where(\"name LIKE 'A%'\")\n",
      "authors.each do |author|\n",
      "  puts author.surname\n",
      "end\n",
      "```  "
     ]
    },
    {
     "cell_type": "code",
     "collapsed": false,
     "input": [
      "authors = Author.where(\"name LIKE 'A%'\")\n",
      "authors.each do |author|\n",
      "  puts author.surname\n",
      "end"
     ],
     "language": "python",
     "metadata": {},
     "outputs": [
      {
       "output_type": "stream",
       "stream": "stdout",
       "text": [
        "Mickiewicz\n"
       ]
      },
      {
       "output_type": "stream",
       "stream": "stdout",
       "text": [
        "Mickiewicz\n"
       ]
      },
      {
       "metadata": {},
       "output_type": "pyout",
       "prompt_number": 44,
       "text": [
        "[#<Author id: 2, name: \"Adam\", surname: \"Mickiewicz\", born: \"1798-12-24\", died: \"1855-11-26\", image_url: nil>, #<Author id: 18, name: \"Adam\", surname: \"Mickiewicz\", born: nil, died: nil, image_url: nil>]"
       ]
      }
     ],
     "prompt_number": 44
    },
    {
     "cell_type": "markdown",
     "metadata": {},
     "source": [
      "Je\u015bli dane w napisie przekazanym do metody `where` pochodz\u0105 od u\u017cytkownika aplikacji, to nara\u017camy si\u0119 na atak SQL-injection.\n",
      "Aby go unik\u0105\u0107, warto\u015b\u0107 podan\u0105 przez u\u017cytkownika przekazujemy jako osobny argument, np.\n",
      "```ruby\n",
      "name = \"Adam\"\n",
      "authors = Author.where(\"name = ?\",name)\n",
      "authors.each do |author|\n",
      "  puts author.surname\n",
      "end\n",
      "```"
     ]
    },
    {
     "cell_type": "code",
     "collapsed": false,
     "input": [
      "name = \"Adam\"\n",
      "authors = Author.where(\"name = ?\",name)\n",
      "authors.each do |author|\n",
      "  puts author.surname\n",
      "end"
     ],
     "language": "python",
     "metadata": {},
     "outputs": [
      {
       "output_type": "stream",
       "stream": "stdout",
       "text": [
        "Mickiewicz\n"
       ]
      },
      {
       "output_type": "stream",
       "stream": "stdout",
       "text": [
        "Mickiewicz\n"
       ]
      },
      {
       "metadata": {},
       "output_type": "pyout",
       "prompt_number": 45,
       "text": [
        "[#<Author id: 2, name: \"Adam\", surname: \"Mickiewicz\", born: \"1798-12-24\", died: \"1855-11-26\", image_url: nil>, #<Author id: 18, name: \"Adam\", surname: \"Mickiewicz\", born: nil, died: nil, image_url: nil>]"
       ]
      }
     ],
     "prompt_number": 45
    },
    {
     "cell_type": "markdown",
     "metadata": {},
     "source": [
      "W tej sytuacji AR sam zadba o odpowiedni\u0105 konwersj\u0119 znak\u00f3w \"niebezpiecznych\"."
     ]
    },
    {
     "cell_type": "heading",
     "level": 3,
     "metadata": {},
     "source": [
      "Zadanie 6"
     ]
    },
    {
     "cell_type": "markdown",
     "metadata": {},
     "source": [
      "Znajd\u017a i wypisz wszystkich autor\u00f3w, kt\u00f3rzy zmarli mi\u0119dzy rokiem 1800 a 1900."
     ]
    },
    {
     "cell_type": "code",
     "collapsed": false,
     "input": [
      "authors = Author.where(died: (Date.parse(\"1800-1-1\")..Date.parse(\"1900-12-31\")))\n",
      "authors.each do |author|\n",
      "  puts \"#{author.name} #{author.surname} #{author.died.strftime(\"%d-%m-%Y\")}\"\n",
      "end"
     ],
     "language": "python",
     "metadata": {},
     "outputs": [
      {
       "output_type": "stream",
       "stream": "stdout",
       "text": [
        "Adam Mickiewicz 26-11-1855\n"
       ]
      },
      {
       "output_type": "stream",
       "stream": "stdout",
       "text": [
        "Juliusz S\u0142owacki 03-04-1849\n"
       ]
      },
      {
       "metadata": {},
       "output_type": "pyout",
       "prompt_number": 65,
       "text": [
        "[#<Author id: 2, name: \"Adam\", surname: \"Mickiewicz\", born: \"1798-12-24\", died: \"1855-11-26\", image_url: nil>, #<Author id: 3, name: \"Juliusz\", surname: \"S\u0142owacki\", born: \"1809-09-04\", died: \"1849-04-03\", image_url: nil>]"
       ]
      }
     ],
     "prompt_number": 65
    },
    {
     "cell_type": "heading",
     "level": 3,
     "metadata": {},
     "source": [
      "`order`"
     ]
    },
    {
     "cell_type": "markdown",
     "metadata": {},
     "source": [
      "Do okre\u015blania kolejno\u015bci wynik\u00f3w s\u0142u\u017cy metoda `order`. Dzia\u0142a ona analogicznie do klauzuli `ORDER` w j\u0119zyku SQL.\n",
      "```ruby\n",
      "authors = Author.order(:born)\n",
      "authors.each do |author|\n",
      "  puts \"#{author.name} #{author.surname} #{author.born}\"\n",
      "end\n",
      "```"
     ]
    },
    {
     "cell_type": "code",
     "collapsed": false,
     "input": [
      "authors = Author.order(:born)\n",
      "authors.each do |author|\n",
      "  puts \"#{author.name} #{author.surname} #{author.born}\"\n",
      "end"
     ],
     "language": "python",
     "metadata": {},
     "outputs": [
      {
       "output_type": "stream",
       "stream": "stdout",
       "text": [
        "Henryk Sienkiewicz \n"
       ]
      },
      {
       "output_type": "stream",
       "stream": "stdout",
       "text": [
        "Eliza Orzeszkowa \n"
       ]
      },
      {
       "output_type": "stream",
       "stream": "stdout",
       "text": [
        "Juliusz S\u0142owacki \n"
       ]
      },
      {
       "output_type": "stream",
       "stream": "stdout",
       "text": [
        "Henryk Sienkiewicz \n"
       ]
      },
      {
       "output_type": "stream",
       "stream": "stdout",
       "text": [
        "Eliza Orzeszkowa \n"
       ]
      },
      {
       "output_type": "stream",
       "stream": "stdout",
       "text": [
        "Juliusz S\u0142owacki \n"
       ]
      },
      {
       "output_type": "stream",
       "stream": "stdout",
       "text": [
        "Henryk Sienkiewicz \n"
       ]
      },
      {
       "output_type": "stream",
       "stream": "stdout",
       "text": [
        "Eliza Orzeszkowa \n"
       ]
      },
      {
       "output_type": "stream",
       "stream": "stdout",
       "text": [
        "Adam Mickiewicz \n"
       ]
      },
      {
       "output_type": "stream",
       "stream": "stdout",
       "text": [
        "Juliusz S\u0142owacki \n"
       ]
      },
      {
       "output_type": "stream",
       "stream": "stdout",
       "text": [
        "Henryk Sienkiewicz \n"
       ]
      },
      {
       "output_type": "stream",
       "stream": "stdout",
       "text": [
        "Eliza Orzeszkowa \n"
       ]
      },
      {
       "output_type": "stream",
       "stream": "stdout",
       "text": [
        "Adam Mickiewicz 1798-12-24\n"
       ]
      },
      {
       "output_type": "stream",
       "stream": "stdout",
       "text": [
        "Juliusz S\u0142owacki 1809-09-04\n"
       ]
      },
      {
       "output_type": "stream",
       "stream": "stdout",
       "text": [
        "Eliza Orzeszkowa 1841-06-06\n"
       ]
      },
      {
       "output_type": "stream",
       "stream": "stdout",
       "text": [
        "Henryk Sienkiewicz 1846-05-05\n"
       ]
      },
      {
       "metadata": {},
       "output_type": "pyout",
       "prompt_number": 47,
       "text": [
        "[#<Author id: 10, name: \"Henryk\", surname: \"Sienkiewicz\", born: nil, died: nil, image_url: nil>, #<Author id: 11, name: \"Eliza\", surname: \"Orzeszkowa\", born: nil, died: nil, image_url: nil>, #<Author id: 12, name: \"Juliusz\", surname: \"S\u0142owacki\", born: nil, died: nil, image_url: nil>, #<Author id: 13, name: \"Henryk\", surname: \"Sienkiewicz\", born: nil, died: nil, image_url: nil>, #<Author id: 14, name: \"Eliza\", surname: \"Orzeszkowa\", born: nil, died: nil, image_url: nil>, #<Author id: 15, name: \"Juliusz\", surname: \"S\u0142owacki\", born: nil, died: nil, image_url: nil>, #<Author id: 16, name: \"Henryk\", surname: \"Sienkiewicz\", born: nil, died: nil, image_url: nil>, #<Author id: 17, name: \"Eliza\", surname: \"Orzeszkowa\", born: nil, died: nil, image_url: nil>, #<Author id: 18, name: \"Adam\", surname: \"Mickiewicz\", born: nil, died: nil, image_url: nil>, #<Author id: 19, name: \"Juliusz\", surname: \"S\u0142owacki\", born: nil, died: nil, image_url: nil>, #<Author id: 20, name: \"Henryk\", surname: \"Sienkiewicz\", born: nil, died: nil, image_url: nil>, #<Author id: 21, name: \"Eliza\", surname: \"Orzeszkowa\", born: nil, died: nil, image_url: nil>, #<Author id: 2, name: \"Adam\", surname: \"Mickiewicz\", born: \"1798-12-24\", died: \"1855-11-26\", image_url: nil>, #<Author id: 3, name: \"Juliusz\", surname: \"S\u0142owacki\", born: \"1809-09-04\", died: \"1849-04-03\", image_url: nil>, #<Author id: 5, name: \"Eliza\", surname: \"Orzeszkowa\", born: \"1841-06-06\", died: \"1910-05-18\", image_url: nil>, #<Author id: 4, name: \"Henryk\", surname: \"Sienkiewicz\", born: \"1846-05-05\", died: \"1916-11-15\", image_url: nil>]"
       ]
      }
     ],
     "prompt_number": 47
    },
    {
     "cell_type": "markdown",
     "metadata": {},
     "source": [
      "Metoda ta cz\u0119sto jest \u0142\u0105czona z wywo\u0142aniami `first` i `last`\n",
      "```ruby\n",
      "author = Author.order(:born).last\n",
      "puts \"#{author.name} #{author.surname} #{author.born}\"\n",
      "```"
     ]
    },
    {
     "cell_type": "heading",
     "level": 3,
     "metadata": {},
     "source": [
      "Zadanie 7"
     ]
    },
    {
     "cell_type": "markdown",
     "metadata": {},
     "source": [
      "Znajd\u017a autora, kt\u00f3ry zmar\u0142 jako ostatni."
     ]
    },
    {
     "cell_type": "code",
     "collapsed": false,
     "input": [
      "author = Author.order(:died).last\n",
      "puts \"#{author.name} #{author.surname} #{author.died}\""
     ],
     "language": "python",
     "metadata": {},
     "outputs": [
      {
       "output_type": "stream",
       "stream": "stdout",
       "text": [
        "Henryk Sienkiewicz 1916-11-15\n"
       ]
      }
     ],
     "prompt_number": 49
    },
    {
     "cell_type": "heading",
     "level": 3,
     "metadata": {},
     "source": [
      "`limit` i `offset`"
     ]
    },
    {
     "cell_type": "markdown",
     "metadata": {},
     "source": [
      "Metody `limit` i `offset` dzia\u0142aj\u0105 analogicznie jak ich odpowiedniki w SQL:\n",
      "```ruby\n",
      "Author.limit(2).each do |author|\n",
      "  puts \"#{author.name} #{author.surname} #{author.born}\"\n",
      "end\n",
      "```"
     ]
    },
    {
     "cell_type": "code",
     "collapsed": false,
     "input": [
      "Author.limit(2).each do |author|\n",
      "  puts \"#{author.name} #{author.surname} #{author.born}\"\n",
      "end"
     ],
     "language": "python",
     "metadata": {},
     "outputs": [
      {
       "output_type": "stream",
       "stream": "stdout",
       "text": [
        "Adam Mickiewicz 1798-12-24\n"
       ]
      },
      {
       "output_type": "stream",
       "stream": "stdout",
       "text": [
        "Juliusz S\u0142owacki 1809-09-04\n"
       ]
      },
      {
       "metadata": {},
       "output_type": "pyout",
       "prompt_number": 50,
       "text": [
        "[#<Author id: 2, name: \"Adam\", surname: \"Mickiewicz\", born: \"1798-12-24\", died: \"1855-11-26\", image_url: nil>, #<Author id: 3, name: \"Juliusz\", surname: \"S\u0142owacki\", born: \"1809-09-04\", died: \"1849-04-03\", image_url: nil>]"
       ]
      }
     ],
     "prompt_number": 50
    },
    {
     "cell_type": "markdown",
     "metadata": {},
     "source": [
      "```ruby\n",
      "Author.offset(2).each do |author|\n",
      "  puts \"#{author.name} #{author.surname} #{author.born}\"\n",
      "end\n",
      "```"
     ]
    },
    {
     "cell_type": "code",
     "collapsed": false,
     "input": [
      "Author.offset(2).each do |author|\n",
      "  puts \"#{author.name} #{author.surname} #{author.born}\"\n",
      "end"
     ],
     "language": "python",
     "metadata": {},
     "outputs": [
      {
       "output_type": "stream",
       "stream": "stdout",
       "text": [
        "Henryk Sienkiewicz 1846-05-05\n"
       ]
      },
      {
       "output_type": "stream",
       "stream": "stdout",
       "text": [
        "Eliza Orzeszkowa 1841-06-06\n"
       ]
      },
      {
       "output_type": "stream",
       "stream": "stdout",
       "text": [
        "Henryk Sienkiewicz \n"
       ]
      },
      {
       "output_type": "stream",
       "stream": "stdout",
       "text": [
        "Eliza Orzeszkowa \n"
       ]
      },
      {
       "output_type": "stream",
       "stream": "stdout",
       "text": [
        "Juliusz S\u0142owacki \n"
       ]
      },
      {
       "output_type": "stream",
       "stream": "stdout",
       "text": [
        "Henryk Sienkiewicz \n"
       ]
      },
      {
       "output_type": "stream",
       "stream": "stdout",
       "text": [
        "Eliza Orzeszkowa \n"
       ]
      },
      {
       "output_type": "stream",
       "stream": "stdout",
       "text": [
        "Juliusz S\u0142owacki \n"
       ]
      },
      {
       "output_type": "stream",
       "stream": "stdout",
       "text": [
        "Henryk Sienkiewicz \n"
       ]
      },
      {
       "output_type": "stream",
       "stream": "stdout",
       "text": [
        "Eliza Orzeszkowa \n"
       ]
      },
      {
       "output_type": "stream",
       "stream": "stdout",
       "text": [
        "Adam Mickiewicz \n"
       ]
      },
      {
       "output_type": "stream",
       "stream": "stdout",
       "text": [
        "Juliusz S\u0142owacki \n"
       ]
      },
      {
       "output_type": "stream",
       "stream": "stdout",
       "text": [
        "Henryk Sienkiewicz \n"
       ]
      },
      {
       "output_type": "stream",
       "stream": "stdout",
       "text": [
        "Eliza Orzeszkowa \n"
       ]
      },
      {
       "metadata": {},
       "output_type": "pyout",
       "prompt_number": 51,
       "text": [
        "[#<Author id: 4, name: \"Henryk\", surname: \"Sienkiewicz\", born: \"1846-05-05\", died: \"1916-11-15\", image_url: nil>, #<Author id: 5, name: \"Eliza\", surname: \"Orzeszkowa\", born: \"1841-06-06\", died: \"1910-05-18\", image_url: nil>, #<Author id: 10, name: \"Henryk\", surname: \"Sienkiewicz\", born: nil, died: nil, image_url: nil>, #<Author id: 11, name: \"Eliza\", surname: \"Orzeszkowa\", born: nil, died: nil, image_url: nil>, #<Author id: 12, name: \"Juliusz\", surname: \"S\u0142owacki\", born: nil, died: nil, image_url: nil>, #<Author id: 13, name: \"Henryk\", surname: \"Sienkiewicz\", born: nil, died: nil, image_url: nil>, #<Author id: 14, name: \"Eliza\", surname: \"Orzeszkowa\", born: nil, died: nil, image_url: nil>, #<Author id: 15, name: \"Juliusz\", surname: \"S\u0142owacki\", born: nil, died: nil, image_url: nil>, #<Author id: 16, name: \"Henryk\", surname: \"Sienkiewicz\", born: nil, died: nil, image_url: nil>, #<Author id: 17, name: \"Eliza\", surname: \"Orzeszkowa\", born: nil, died: nil, image_url: nil>, #<Author id: 18, name: \"Adam\", surname: \"Mickiewicz\", born: nil, died: nil, image_url: nil>, #<Author id: 19, name: \"Juliusz\", surname: \"S\u0142owacki\", born: nil, died: nil, image_url: nil>, #<Author id: 20, name: \"Henryk\", surname: \"Sienkiewicz\", born: nil, died: nil, image_url: nil>, #<Author id: 21, name: \"Eliza\", surname: \"Orzeszkowa\", born: nil, died: nil, image_url: nil>]"
       ]
      }
     ],
     "prompt_number": 51
    },
    {
     "cell_type": "markdown",
     "metadata": {},
     "source": [
      "Warto jednak pami\u0119ta\u0107, \u017ceby stosuj\u0105c je okre\u015bli\u0107 po\u017c\u0105dek rekord\u00f3w."
     ]
    },
    {
     "cell_type": "heading",
     "level": 3,
     "metadata": {},
     "source": [
      "Zadanie 8"
     ]
    },
    {
     "cell_type": "markdown",
     "metadata": {},
     "source": [
      "Znajd\u017a i wypisz 3 autor\u00f3w, kt\u00f3rzy zmarli jako pierwsi."
     ]
    },
    {
     "cell_type": "code",
     "collapsed": false,
     "input": [
      "Author.where(\"died is not null\").order(:died).limit(3).each do |author| \n",
      "  puts \"#{author.name} #{author.surname} #{author.died}\"\n",
      "end\n",
      "Author.count"
     ],
     "language": "python",
     "metadata": {},
     "outputs": [
      {
       "output_type": "stream",
       "stream": "stdout",
       "text": [
        "Juliusz S\u0142owacki 1849-04-03\n"
       ]
      },
      {
       "output_type": "stream",
       "stream": "stdout",
       "text": [
        "Adam Mickiewicz 1855-11-26\n"
       ]
      },
      {
       "output_type": "stream",
       "stream": "stdout",
       "text": [
        "Eliza Orzeszkowa 1910-05-18\n"
       ]
      },
      {
       "metadata": {},
       "output_type": "pyout",
       "prompt_number": 70,
       "text": [
        "7"
       ]
      }
     ],
     "prompt_number": 70
    }
   ],
   "metadata": {}
  }
 ]
}